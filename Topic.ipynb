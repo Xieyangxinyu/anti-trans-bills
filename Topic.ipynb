{
 "cells": [
  {
   "cell_type": "code",
   "execution_count": 1,
   "metadata": {},
   "outputs": [
    {
     "name": "stderr",
     "output_type": "stream",
     "text": [
      "/Users/yangxinyuxie/Desktop/anti-trans-bills/.venv/lib/python3.10/site-packages/tqdm/auto.py:21: TqdmWarning: IProgress not found. Please update jupyter and ipywidgets. See https://ipywidgets.readthedocs.io/en/stable/user_install.html\n",
      "  from .autonotebook import tqdm as notebook_tqdm\n"
     ]
    },
    {
     "data": {
      "text/html": [
       "<div>\n",
       "<style scoped>\n",
       "    .dataframe tbody tr th:only-of-type {\n",
       "        vertical-align: middle;\n",
       "    }\n",
       "\n",
       "    .dataframe tbody tr th {\n",
       "        vertical-align: top;\n",
       "    }\n",
       "\n",
       "    .dataframe thead th {\n",
       "        text-align: right;\n",
       "    }\n",
       "</style>\n",
       "<table border=\"1\" class=\"dataframe\">\n",
       "  <thead>\n",
       "    <tr style=\"text-align: right;\">\n",
       "      <th></th>\n",
       "      <th>Date</th>\n",
       "      <th>State</th>\n",
       "      <th>Bill</th>\n",
       "      <th>Bill Description</th>\n",
       "      <th>Bill Type</th>\n",
       "      <th>Status</th>\n",
       "      <th>Bill Link</th>\n",
       "      <th>year</th>\n",
       "    </tr>\n",
       "  </thead>\n",
       "  <tbody>\n",
       "    <tr>\n",
       "      <th>1</th>\n",
       "      <td>2020-03-10</td>\n",
       "      <td>AL</td>\n",
       "      <td>SB 219</td>\n",
       "      <td>Referred to committee 3/10/20</td>\n",
       "      <td>Healthcare</td>\n",
       "      <td>Introduced</td>\n",
       "      <td>NaN</td>\n",
       "      <td>2020.0</td>\n",
       "    </tr>\n",
       "    <tr>\n",
       "      <th>2</th>\n",
       "      <td>2020-02-27</td>\n",
       "      <td>AL</td>\n",
       "      <td>HB 303</td>\n",
       "      <td>Introduced 2/27/20</td>\n",
       "      <td>Healthcare</td>\n",
       "      <td>Introduced</td>\n",
       "      <td>NaN</td>\n",
       "      <td>2020.0</td>\n",
       "    </tr>\n",
       "    <tr>\n",
       "      <th>3</th>\n",
       "      <td>2020-02-13</td>\n",
       "      <td>CO</td>\n",
       "      <td>HB 20-1114</td>\n",
       "      <td>Postponed Indefinitely 2/13/20</td>\n",
       "      <td>Healthcare</td>\n",
       "      <td>Dead/Failed</td>\n",
       "      <td>NaN</td>\n",
       "      <td>2020.0</td>\n",
       "    </tr>\n",
       "    <tr>\n",
       "      <th>4</th>\n",
       "      <td>2020-03-14</td>\n",
       "      <td>FL</td>\n",
       "      <td>SB 1864</td>\n",
       "      <td>Dead/Failed in committee 3/14/20</td>\n",
       "      <td>Healthcare</td>\n",
       "      <td>Dead/Failed</td>\n",
       "      <td>NaN</td>\n",
       "      <td>2020.0</td>\n",
       "    </tr>\n",
       "    <tr>\n",
       "      <th>5</th>\n",
       "      <td>2020-03-14</td>\n",
       "      <td>FL</td>\n",
       "      <td>HB 1365</td>\n",
       "      <td>Dead/Failed in committee 3/14/20</td>\n",
       "      <td>Healthcare</td>\n",
       "      <td>Dead/Failed</td>\n",
       "      <td>NaN</td>\n",
       "      <td>2020.0</td>\n",
       "    </tr>\n",
       "  </tbody>\n",
       "</table>\n",
       "</div>"
      ],
      "text/plain": [
       "         Date State        Bill                  Bill Description   Bill Type  \\\n",
       "1  2020-03-10    AL      SB 219     Referred to committee 3/10/20  Healthcare   \n",
       "2  2020-02-27    AL      HB 303                Introduced 2/27/20  Healthcare   \n",
       "3  2020-02-13    CO  HB 20-1114    Postponed Indefinitely 2/13/20  Healthcare   \n",
       "4  2020-03-14    FL     SB 1864  Dead/Failed in committee 3/14/20  Healthcare   \n",
       "5  2020-03-14    FL     HB 1365  Dead/Failed in committee 3/14/20  Healthcare   \n",
       "\n",
       "        Status Bill Link    year  \n",
       "1   Introduced       NaN  2020.0  \n",
       "2   Introduced       NaN  2020.0  \n",
       "3  Dead/Failed       NaN  2020.0  \n",
       "4  Dead/Failed       NaN  2020.0  \n",
       "5  Dead/Failed       NaN  2020.0  "
      ]
     },
     "execution_count": 1,
     "metadata": {},
     "output_type": "execute_result"
    }
   ],
   "source": [
    "import pandas as pd\n",
    "from topic_modelling import get_topic_model\n",
    "\n",
    "df = pd.read_csv('data/bills_18_23.csv', index_col=0)\n",
    "\n",
    "df.head()"
   ]
  },
  {
   "cell_type": "code",
   "execution_count": 2,
   "metadata": {},
   "outputs": [
    {
     "data": {
      "text/plain": [
       "array(['Healthcare', 'Public Facilities', 'Youth Athletics', 'ID Updates',\n",
       "       'Other', 'Religious Freedom', 'Nondiscrimination Protections',\n",
       "       'Schools / Education', 'Drag Performance'], dtype=object)"
      ]
     },
     "execution_count": 2,
     "metadata": {},
     "output_type": "execute_result"
    }
   ],
   "source": [
    "df['Bill Type'].unique()"
   ]
  },
  {
   "cell_type": "code",
   "execution_count": 13,
   "metadata": {},
   "outputs": [],
   "source": [
    "docs, embeddings, topic_model, topic_df, info_tab = get_topic_model('Healthcare')"
   ]
  },
  {
   "cell_type": "code",
   "execution_count": 14,
   "metadata": {},
   "outputs": [
    {
     "data": {
      "application/vnd.plotly.v1+json": {
       "config": {
        "plotlyServerURL": "https://plot.ly"
       },
       "data": [
        {
         "hoverinfo": "text",
         "marker": {
          "color": "rgb(61,153,112)"
         },
         "mode": "lines",
         "type": "scatter",
         "x": [
          0,
          0.5785924979437971,
          0.5785924979437971,
          0
         ],
         "xaxis": "x",
         "y": [
          -5,
          -5,
          -15,
          -15
         ],
         "yaxis": "y"
        },
        {
         "hoverinfo": "text",
         "marker": {
          "color": "rgb(255,65,54)"
         },
         "mode": "lines",
         "type": "scatter",
         "x": [
          0,
          0.8237080593949239,
          0.8237080593949239,
          0
         ],
         "xaxis": "x",
         "y": [
          -45,
          -45,
          -55,
          -55
         ],
         "yaxis": "y"
        },
        {
         "hoverinfo": "text",
         "marker": {
          "color": "rgb(255,65,54)"
         },
         "mode": "lines",
         "type": "scatter",
         "x": [
          0,
          0.8702815806746799,
          0.8702815806746799,
          0.8237080593949239
         ],
         "xaxis": "x",
         "y": [
          -35,
          -35,
          -50,
          -50
         ],
         "yaxis": "y"
        },
        {
         "hoverinfo": "text",
         "marker": {
          "color": "rgb(0,116,217)"
         },
         "mode": "lines",
         "type": "scatter",
         "x": [
          0,
          1.0668910110033487,
          1.0668910110033487,
          0.8702815806746799
         ],
         "xaxis": "x",
         "y": [
          -25,
          -25,
          -42.5,
          -42.5
         ],
         "yaxis": "y"
        },
        {
         "hoverinfo": "text",
         "marker": {
          "color": "rgb(35,205,205)"
         },
         "mode": "lines",
         "type": "scatter",
         "x": [
          0,
          0.5341759753090272,
          0.5341759753090272,
          0
         ],
         "xaxis": "x",
         "y": [
          -75,
          -75,
          -85,
          -85
         ],
         "yaxis": "y"
        },
        {
         "hoverinfo": "text",
         "marker": {
          "color": "rgb(35,205,205)"
         },
         "mode": "lines",
         "type": "scatter",
         "x": [
          0,
          0.8261792052739951,
          0.8261792052739951,
          0.5341759753090272
         ],
         "xaxis": "x",
         "y": [
          -65,
          -65,
          -80,
          -80
         ],
         "yaxis": "y"
        },
        {
         "hoverinfo": "text",
         "marker": {
          "color": "rgb(35,205,205)"
         },
         "mode": "lines",
         "type": "scatter",
         "x": [
          0.8261792052739951,
          0.8945046453843779,
          0.8945046453843779,
          0
         ],
         "xaxis": "x",
         "y": [
          -72.5,
          -72.5,
          -95,
          -95
         ],
         "yaxis": "y"
        },
        {
         "hoverinfo": "text",
         "marker": {
          "color": "rgb(0,116,217)"
         },
         "mode": "lines",
         "type": "scatter",
         "x": [
          1.0668910110033487,
          1.1371674701602899,
          1.1371674701602899,
          0.8945046453843779
         ],
         "xaxis": "x",
         "y": [
          -33.75,
          -33.75,
          -83.75,
          -83.75
         ],
         "yaxis": "y"
        },
        {
         "hoverinfo": "text",
         "marker": {
          "color": "rgb(133,20,75)"
         },
         "mode": "lines",
         "type": "scatter",
         "x": [
          0,
          0.7196466731978265,
          0.7196466731978265,
          0
         ],
         "xaxis": "x",
         "y": [
          -105,
          -105,
          -115,
          -115
         ],
         "yaxis": "y"
        },
        {
         "hoverinfo": "text",
         "marker": {
          "color": "rgb(133,20,75)"
         },
         "mode": "lines",
         "type": "scatter",
         "x": [
          0,
          0.7435802260692049,
          0.7435802260692049,
          0
         ],
         "xaxis": "x",
         "y": [
          -125,
          -125,
          -135,
          -135
         ],
         "yaxis": "y"
        },
        {
         "hoverinfo": "text",
         "marker": {
          "color": "rgb(133,20,75)"
         },
         "mode": "lines",
         "type": "scatter",
         "x": [
          0.7196466731978265,
          0.883782078280906,
          0.883782078280906,
          0.7435802260692049
         ],
         "xaxis": "x",
         "y": [
          -110,
          -110,
          -130,
          -130
         ],
         "yaxis": "y"
        },
        {
         "hoverinfo": "text",
         "marker": {
          "color": "rgb(255,220,0)"
         },
         "mode": "lines",
         "type": "scatter",
         "x": [
          0,
          0.7067435745324201,
          0.7067435745324201,
          0
         ],
         "xaxis": "x",
         "y": [
          -145,
          -145,
          -155,
          -155
         ],
         "yaxis": "y"
        },
        {
         "hoverinfo": "text",
         "marker": {
          "color": "rgb(255,220,0)"
         },
         "mode": "lines",
         "type": "scatter",
         "x": [
          0.7067435745324201,
          0.7672688990839079,
          0.7672688990839079,
          0
         ],
         "xaxis": "x",
         "y": [
          -150,
          -150,
          -165,
          -165
         ],
         "yaxis": "y"
        },
        {
         "hoverinfo": "text",
         "marker": {
          "color": "rgb(255,220,0)"
         },
         "mode": "lines",
         "type": "scatter",
         "x": [
          0,
          0.8546450534986424,
          0.8546450534986424,
          0
         ],
         "xaxis": "x",
         "y": [
          -175,
          -175,
          -185,
          -185
         ],
         "yaxis": "y"
        },
        {
         "hoverinfo": "text",
         "marker": {
          "color": "rgb(255,220,0)"
         },
         "mode": "lines",
         "type": "scatter",
         "x": [
          0.7672688990839079,
          0.9498093965821779,
          0.9498093965821779,
          0.8546450534986424
         ],
         "xaxis": "x",
         "y": [
          -157.5,
          -157.5,
          -180,
          -180
         ],
         "yaxis": "y"
        },
        {
         "hoverinfo": "text",
         "marker": {
          "color": "rgb(0,116,217)"
         },
         "mode": "lines",
         "type": "scatter",
         "x": [
          0.883782078280906,
          1.0335562151834776,
          1.0335562151834776,
          0.9498093965821779
         ],
         "xaxis": "x",
         "y": [
          -120,
          -120,
          -168.75,
          -168.75
         ],
         "yaxis": "y"
        },
        {
         "hoverinfo": "text",
         "marker": {
          "color": "rgb(40,35,35)"
         },
         "mode": "lines",
         "type": "scatter",
         "x": [
          0,
          0.7139531309554585,
          0.7139531309554585,
          0
         ],
         "xaxis": "x",
         "y": [
          -205,
          -205,
          -215,
          -215
         ],
         "yaxis": "y"
        },
        {
         "hoverinfo": "text",
         "marker": {
          "color": "rgb(40,35,35)"
         },
         "mode": "lines",
         "type": "scatter",
         "x": [
          0,
          0.8513414746774095,
          0.8513414746774095,
          0.7139531309554585
         ],
         "xaxis": "x",
         "y": [
          -195,
          -195,
          -210,
          -210
         ],
         "yaxis": "y"
        },
        {
         "hoverinfo": "text",
         "marker": {
          "color": "rgb(40,35,35)"
         },
         "mode": "lines",
         "type": "scatter",
         "x": [
          0.8513414746774095,
          0.9292335095803755,
          0.9292335095803755,
          0
         ],
         "xaxis": "x",
         "y": [
          -202.5,
          -202.5,
          -225,
          -225
         ],
         "yaxis": "y"
        },
        {
         "hoverinfo": "text",
         "marker": {
          "color": "rgb(0,116,217)"
         },
         "mode": "lines",
         "type": "scatter",
         "x": [
          1.0335562151834776,
          1.080846415127299,
          1.080846415127299,
          0.9292335095803755
         ],
         "xaxis": "x",
         "y": [
          -144.375,
          -144.375,
          -213.75,
          -213.75
         ],
         "yaxis": "y"
        },
        {
         "hoverinfo": "text",
         "marker": {
          "color": "rgb(0,116,217)"
         },
         "mode": "lines",
         "type": "scatter",
         "x": [
          1.1371674701602899,
          1.1930565187553621,
          1.1930565187553621,
          1.080846415127299
         ],
         "xaxis": "x",
         "y": [
          -58.75,
          -58.75,
          -179.0625,
          -179.0625
         ],
         "yaxis": "y"
        },
        {
         "hoverinfo": "text",
         "marker": {
          "color": "rgb(61,153,112)"
         },
         "mode": "lines",
         "type": "scatter",
         "x": [
          0,
          0.4324545567975868,
          0.4324545567975868,
          0
         ],
         "xaxis": "x",
         "y": [
          -245,
          -245,
          -255,
          -255
         ],
         "yaxis": "y"
        },
        {
         "hoverinfo": "text",
         "marker": {
          "color": "rgb(61,153,112)"
         },
         "mode": "lines",
         "type": "scatter",
         "x": [
          0,
          0.8329043683559357,
          0.8329043683559357,
          0.4324545567975868
         ],
         "xaxis": "x",
         "y": [
          -235,
          -235,
          -250,
          -250
         ],
         "yaxis": "y"
        },
        {
         "hoverinfo": "text",
         "marker": {
          "color": "rgb(61,153,112)"
         },
         "mode": "lines",
         "type": "scatter",
         "x": [
          0.8329043683559357,
          0.9906283035454362,
          0.9906283035454362,
          0
         ],
         "xaxis": "x",
         "y": [
          -242.5,
          -242.5,
          -265,
          -265
         ],
         "yaxis": "y"
        },
        {
         "hoverinfo": "text",
         "marker": {
          "color": "rgb(0,116,217)"
         },
         "mode": "lines",
         "type": "scatter",
         "x": [
          1.1930565187553621,
          1.2819212354325953,
          1.2819212354325953,
          0.9906283035454362
         ],
         "xaxis": "x",
         "y": [
          -118.90625,
          -118.90625,
          -253.75,
          -253.75
         ],
         "yaxis": "y"
        },
        {
         "hoverinfo": "text",
         "marker": {
          "color": "rgb(0,116,217)"
         },
         "mode": "lines",
         "type": "scatter",
         "x": [
          0.5785924979437971,
          1.3343512027314748,
          1.3343512027314748,
          1.2819212354325953
         ],
         "xaxis": "x",
         "y": [
          -10,
          -10,
          -186.328125,
          -186.328125
         ],
         "yaxis": "y"
        }
       ],
       "layout": {
        "autosize": false,
        "height": 605,
        "hoverlabel": {
         "bgcolor": "white",
         "font": {
          "family": "Rockwell",
          "size": 16
         }
        },
        "hovermode": "closest",
        "plot_bgcolor": "#ECEFF1",
        "showlegend": false,
        "template": {
         "data": {
          "bar": [
           {
            "error_x": {
             "color": "#2a3f5f"
            },
            "error_y": {
             "color": "#2a3f5f"
            },
            "marker": {
             "line": {
              "color": "white",
              "width": 0.5
             },
             "pattern": {
              "fillmode": "overlay",
              "size": 10,
              "solidity": 0.2
             }
            },
            "type": "bar"
           }
          ],
          "barpolar": [
           {
            "marker": {
             "line": {
              "color": "white",
              "width": 0.5
             },
             "pattern": {
              "fillmode": "overlay",
              "size": 10,
              "solidity": 0.2
             }
            },
            "type": "barpolar"
           }
          ],
          "carpet": [
           {
            "aaxis": {
             "endlinecolor": "#2a3f5f",
             "gridcolor": "#C8D4E3",
             "linecolor": "#C8D4E3",
             "minorgridcolor": "#C8D4E3",
             "startlinecolor": "#2a3f5f"
            },
            "baxis": {
             "endlinecolor": "#2a3f5f",
             "gridcolor": "#C8D4E3",
             "linecolor": "#C8D4E3",
             "minorgridcolor": "#C8D4E3",
             "startlinecolor": "#2a3f5f"
            },
            "type": "carpet"
           }
          ],
          "choropleth": [
           {
            "colorbar": {
             "outlinewidth": 0,
             "ticks": ""
            },
            "type": "choropleth"
           }
          ],
          "contour": [
           {
            "colorbar": {
             "outlinewidth": 0,
             "ticks": ""
            },
            "colorscale": [
             [
              0,
              "#0d0887"
             ],
             [
              0.1111111111111111,
              "#46039f"
             ],
             [
              0.2222222222222222,
              "#7201a8"
             ],
             [
              0.3333333333333333,
              "#9c179e"
             ],
             [
              0.4444444444444444,
              "#bd3786"
             ],
             [
              0.5555555555555556,
              "#d8576b"
             ],
             [
              0.6666666666666666,
              "#ed7953"
             ],
             [
              0.7777777777777778,
              "#fb9f3a"
             ],
             [
              0.8888888888888888,
              "#fdca26"
             ],
             [
              1,
              "#f0f921"
             ]
            ],
            "type": "contour"
           }
          ],
          "contourcarpet": [
           {
            "colorbar": {
             "outlinewidth": 0,
             "ticks": ""
            },
            "type": "contourcarpet"
           }
          ],
          "heatmap": [
           {
            "colorbar": {
             "outlinewidth": 0,
             "ticks": ""
            },
            "colorscale": [
             [
              0,
              "#0d0887"
             ],
             [
              0.1111111111111111,
              "#46039f"
             ],
             [
              0.2222222222222222,
              "#7201a8"
             ],
             [
              0.3333333333333333,
              "#9c179e"
             ],
             [
              0.4444444444444444,
              "#bd3786"
             ],
             [
              0.5555555555555556,
              "#d8576b"
             ],
             [
              0.6666666666666666,
              "#ed7953"
             ],
             [
              0.7777777777777778,
              "#fb9f3a"
             ],
             [
              0.8888888888888888,
              "#fdca26"
             ],
             [
              1,
              "#f0f921"
             ]
            ],
            "type": "heatmap"
           }
          ],
          "heatmapgl": [
           {
            "colorbar": {
             "outlinewidth": 0,
             "ticks": ""
            },
            "colorscale": [
             [
              0,
              "#0d0887"
             ],
             [
              0.1111111111111111,
              "#46039f"
             ],
             [
              0.2222222222222222,
              "#7201a8"
             ],
             [
              0.3333333333333333,
              "#9c179e"
             ],
             [
              0.4444444444444444,
              "#bd3786"
             ],
             [
              0.5555555555555556,
              "#d8576b"
             ],
             [
              0.6666666666666666,
              "#ed7953"
             ],
             [
              0.7777777777777778,
              "#fb9f3a"
             ],
             [
              0.8888888888888888,
              "#fdca26"
             ],
             [
              1,
              "#f0f921"
             ]
            ],
            "type": "heatmapgl"
           }
          ],
          "histogram": [
           {
            "marker": {
             "pattern": {
              "fillmode": "overlay",
              "size": 10,
              "solidity": 0.2
             }
            },
            "type": "histogram"
           }
          ],
          "histogram2d": [
           {
            "colorbar": {
             "outlinewidth": 0,
             "ticks": ""
            },
            "colorscale": [
             [
              0,
              "#0d0887"
             ],
             [
              0.1111111111111111,
              "#46039f"
             ],
             [
              0.2222222222222222,
              "#7201a8"
             ],
             [
              0.3333333333333333,
              "#9c179e"
             ],
             [
              0.4444444444444444,
              "#bd3786"
             ],
             [
              0.5555555555555556,
              "#d8576b"
             ],
             [
              0.6666666666666666,
              "#ed7953"
             ],
             [
              0.7777777777777778,
              "#fb9f3a"
             ],
             [
              0.8888888888888888,
              "#fdca26"
             ],
             [
              1,
              "#f0f921"
             ]
            ],
            "type": "histogram2d"
           }
          ],
          "histogram2dcontour": [
           {
            "colorbar": {
             "outlinewidth": 0,
             "ticks": ""
            },
            "colorscale": [
             [
              0,
              "#0d0887"
             ],
             [
              0.1111111111111111,
              "#46039f"
             ],
             [
              0.2222222222222222,
              "#7201a8"
             ],
             [
              0.3333333333333333,
              "#9c179e"
             ],
             [
              0.4444444444444444,
              "#bd3786"
             ],
             [
              0.5555555555555556,
              "#d8576b"
             ],
             [
              0.6666666666666666,
              "#ed7953"
             ],
             [
              0.7777777777777778,
              "#fb9f3a"
             ],
             [
              0.8888888888888888,
              "#fdca26"
             ],
             [
              1,
              "#f0f921"
             ]
            ],
            "type": "histogram2dcontour"
           }
          ],
          "mesh3d": [
           {
            "colorbar": {
             "outlinewidth": 0,
             "ticks": ""
            },
            "type": "mesh3d"
           }
          ],
          "parcoords": [
           {
            "line": {
             "colorbar": {
              "outlinewidth": 0,
              "ticks": ""
             }
            },
            "type": "parcoords"
           }
          ],
          "pie": [
           {
            "automargin": true,
            "type": "pie"
           }
          ],
          "scatter": [
           {
            "fillpattern": {
             "fillmode": "overlay",
             "size": 10,
             "solidity": 0.2
            },
            "type": "scatter"
           }
          ],
          "scatter3d": [
           {
            "line": {
             "colorbar": {
              "outlinewidth": 0,
              "ticks": ""
             }
            },
            "marker": {
             "colorbar": {
              "outlinewidth": 0,
              "ticks": ""
             }
            },
            "type": "scatter3d"
           }
          ],
          "scattercarpet": [
           {
            "marker": {
             "colorbar": {
              "outlinewidth": 0,
              "ticks": ""
             }
            },
            "type": "scattercarpet"
           }
          ],
          "scattergeo": [
           {
            "marker": {
             "colorbar": {
              "outlinewidth": 0,
              "ticks": ""
             }
            },
            "type": "scattergeo"
           }
          ],
          "scattergl": [
           {
            "marker": {
             "colorbar": {
              "outlinewidth": 0,
              "ticks": ""
             }
            },
            "type": "scattergl"
           }
          ],
          "scattermapbox": [
           {
            "marker": {
             "colorbar": {
              "outlinewidth": 0,
              "ticks": ""
             }
            },
            "type": "scattermapbox"
           }
          ],
          "scatterpolar": [
           {
            "marker": {
             "colorbar": {
              "outlinewidth": 0,
              "ticks": ""
             }
            },
            "type": "scatterpolar"
           }
          ],
          "scatterpolargl": [
           {
            "marker": {
             "colorbar": {
              "outlinewidth": 0,
              "ticks": ""
             }
            },
            "type": "scatterpolargl"
           }
          ],
          "scatterternary": [
           {
            "marker": {
             "colorbar": {
              "outlinewidth": 0,
              "ticks": ""
             }
            },
            "type": "scatterternary"
           }
          ],
          "surface": [
           {
            "colorbar": {
             "outlinewidth": 0,
             "ticks": ""
            },
            "colorscale": [
             [
              0,
              "#0d0887"
             ],
             [
              0.1111111111111111,
              "#46039f"
             ],
             [
              0.2222222222222222,
              "#7201a8"
             ],
             [
              0.3333333333333333,
              "#9c179e"
             ],
             [
              0.4444444444444444,
              "#bd3786"
             ],
             [
              0.5555555555555556,
              "#d8576b"
             ],
             [
              0.6666666666666666,
              "#ed7953"
             ],
             [
              0.7777777777777778,
              "#fb9f3a"
             ],
             [
              0.8888888888888888,
              "#fdca26"
             ],
             [
              1,
              "#f0f921"
             ]
            ],
            "type": "surface"
           }
          ],
          "table": [
           {
            "cells": {
             "fill": {
              "color": "#EBF0F8"
             },
             "line": {
              "color": "white"
             }
            },
            "header": {
             "fill": {
              "color": "#C8D4E3"
             },
             "line": {
              "color": "white"
             }
            },
            "type": "table"
           }
          ]
         },
         "layout": {
          "annotationdefaults": {
           "arrowcolor": "#2a3f5f",
           "arrowhead": 0,
           "arrowwidth": 1
          },
          "autotypenumbers": "strict",
          "coloraxis": {
           "colorbar": {
            "outlinewidth": 0,
            "ticks": ""
           }
          },
          "colorscale": {
           "diverging": [
            [
             0,
             "#8e0152"
            ],
            [
             0.1,
             "#c51b7d"
            ],
            [
             0.2,
             "#de77ae"
            ],
            [
             0.3,
             "#f1b6da"
            ],
            [
             0.4,
             "#fde0ef"
            ],
            [
             0.5,
             "#f7f7f7"
            ],
            [
             0.6,
             "#e6f5d0"
            ],
            [
             0.7,
             "#b8e186"
            ],
            [
             0.8,
             "#7fbc41"
            ],
            [
             0.9,
             "#4d9221"
            ],
            [
             1,
             "#276419"
            ]
           ],
           "sequential": [
            [
             0,
             "#0d0887"
            ],
            [
             0.1111111111111111,
             "#46039f"
            ],
            [
             0.2222222222222222,
             "#7201a8"
            ],
            [
             0.3333333333333333,
             "#9c179e"
            ],
            [
             0.4444444444444444,
             "#bd3786"
            ],
            [
             0.5555555555555556,
             "#d8576b"
            ],
            [
             0.6666666666666666,
             "#ed7953"
            ],
            [
             0.7777777777777778,
             "#fb9f3a"
            ],
            [
             0.8888888888888888,
             "#fdca26"
            ],
            [
             1,
             "#f0f921"
            ]
           ],
           "sequentialminus": [
            [
             0,
             "#0d0887"
            ],
            [
             0.1111111111111111,
             "#46039f"
            ],
            [
             0.2222222222222222,
             "#7201a8"
            ],
            [
             0.3333333333333333,
             "#9c179e"
            ],
            [
             0.4444444444444444,
             "#bd3786"
            ],
            [
             0.5555555555555556,
             "#d8576b"
            ],
            [
             0.6666666666666666,
             "#ed7953"
            ],
            [
             0.7777777777777778,
             "#fb9f3a"
            ],
            [
             0.8888888888888888,
             "#fdca26"
            ],
            [
             1,
             "#f0f921"
            ]
           ]
          },
          "colorway": [
           "#636efa",
           "#EF553B",
           "#00cc96",
           "#ab63fa",
           "#FFA15A",
           "#19d3f3",
           "#FF6692",
           "#B6E880",
           "#FF97FF",
           "#FECB52"
          ],
          "font": {
           "color": "#2a3f5f"
          },
          "geo": {
           "bgcolor": "white",
           "lakecolor": "white",
           "landcolor": "white",
           "showlakes": true,
           "showland": true,
           "subunitcolor": "#C8D4E3"
          },
          "hoverlabel": {
           "align": "left"
          },
          "hovermode": "closest",
          "mapbox": {
           "style": "light"
          },
          "paper_bgcolor": "white",
          "plot_bgcolor": "white",
          "polar": {
           "angularaxis": {
            "gridcolor": "#EBF0F8",
            "linecolor": "#EBF0F8",
            "ticks": ""
           },
           "bgcolor": "white",
           "radialaxis": {
            "gridcolor": "#EBF0F8",
            "linecolor": "#EBF0F8",
            "ticks": ""
           }
          },
          "scene": {
           "xaxis": {
            "backgroundcolor": "white",
            "gridcolor": "#DFE8F3",
            "gridwidth": 2,
            "linecolor": "#EBF0F8",
            "showbackground": true,
            "ticks": "",
            "zerolinecolor": "#EBF0F8"
           },
           "yaxis": {
            "backgroundcolor": "white",
            "gridcolor": "#DFE8F3",
            "gridwidth": 2,
            "linecolor": "#EBF0F8",
            "showbackground": true,
            "ticks": "",
            "zerolinecolor": "#EBF0F8"
           },
           "zaxis": {
            "backgroundcolor": "white",
            "gridcolor": "#DFE8F3",
            "gridwidth": 2,
            "linecolor": "#EBF0F8",
            "showbackground": true,
            "ticks": "",
            "zerolinecolor": "#EBF0F8"
           }
          },
          "shapedefaults": {
           "line": {
            "color": "#2a3f5f"
           }
          },
          "ternary": {
           "aaxis": {
            "gridcolor": "#DFE8F3",
            "linecolor": "#A2B1C6",
            "ticks": ""
           },
           "baxis": {
            "gridcolor": "#DFE8F3",
            "linecolor": "#A2B1C6",
            "ticks": ""
           },
           "bgcolor": "white",
           "caxis": {
            "gridcolor": "#DFE8F3",
            "linecolor": "#A2B1C6",
            "ticks": ""
           }
          },
          "title": {
           "x": 0.05
          },
          "xaxis": {
           "automargin": true,
           "gridcolor": "#EBF0F8",
           "linecolor": "#EBF0F8",
           "ticks": "",
           "title": {
            "standoff": 15
           },
           "zerolinecolor": "#EBF0F8",
           "zerolinewidth": 2
          },
          "yaxis": {
           "automargin": true,
           "gridcolor": "#EBF0F8",
           "linecolor": "#EBF0F8",
           "ticks": "",
           "title": {
            "standoff": 15
           },
           "zerolinecolor": "#EBF0F8",
           "zerolinewidth": 2
          }
         }
        },
        "title": {
         "font": {
          "color": "Black",
          "size": 22
         },
         "text": "<b>Hierarchical Clustering</b>",
         "x": 0.5,
         "xanchor": "center",
         "yanchor": "top"
        },
        "width": 1000,
        "xaxis": {
         "mirror": "allticks",
         "rangemode": "tozero",
         "showgrid": false,
         "showline": true,
         "showticklabels": true,
         "ticks": "outside",
         "type": "linear",
         "zeroline": false
        },
        "yaxis": {
         "mirror": "allticks",
         "range": [
          -270,
          0
         ],
         "rangemode": "tozero",
         "showgrid": false,
         "showline": true,
         "showticklabels": true,
         "tickmode": "array",
         "ticks": "outside",
         "ticktext": [
          "Youth Health Protection Act",
          "Amendments to TCA Titles",
          "Committee Deadlines and Hearings",
          "Enforcement of Health Care Act",
          "Civil Enforcement Actions",
          "Medical Provider Conscience Rights",
          "Child Protection from Gender Transition Procedures",
          "Prohibition of Gender Transition Under 18",
          "Restriction of Gender Transition Procedures",
          "Safe Adolescents Act",
          "Gender Dysphoria Legislation",
          "Prohibiting Gender Reassignment Procedures",
          "Prohibits Gender Transition Procedures for Minors",
          "Sexual Identity Affirmation Prohibition",
          "Gender Transitioning Limitations",
          "Gender Reassignment Legislation",
          "Restrictions on Gender-Related Medical Care",
          "Prohibiting Medical Treatment for Minors",
          "Prohibiting Medical Practices for Medicaid",
          "Federal Prohibition of Gender Affirming Care",
          "Restricting Gender Affirming Care",
          "Prohibition of Gender Reassignment Surgeries",
          "Minors' Gender Transitioning Procedures",
          "Student Parental Rights in School",
          "Gender Incongruence in Schools",
          "Child Sex Reassignment Legislation",
          "Child Abuse Definition and Prosecution"
         ],
         "tickvals": [
          -5,
          -15,
          -25,
          -35,
          -45,
          -55,
          -65,
          -75,
          -85,
          -95,
          -105,
          -115,
          -125,
          -135,
          -145,
          -155,
          -165,
          -175,
          -185,
          -195,
          -205,
          -215,
          -225,
          -235,
          -245,
          -255,
          -265
         ],
         "type": "linear",
         "zeroline": false
        }
       }
      }
     },
     "metadata": {},
     "output_type": "display_data"
    }
   ],
   "source": [
    "topic_model.visualize_hierarchy(custom_labels=True)"
   ]
  },
  {
   "cell_type": "code",
   "execution_count": 15,
   "metadata": {},
   "outputs": [],
   "source": [
    "# Reduce dimensionality of embeddings, this step is optional but much faster to perform iteratively:\n",
    "from umap import UMAP\n",
    "reduced_embeddings = UMAP(n_neighbors=15, n_components=2, min_dist=0.0, metric='cosine').fit_transform(embeddings)"
   ]
  },
  {
   "cell_type": "code",
   "execution_count": 16,
   "metadata": {},
   "outputs": [
    {
     "data": {
      "application/vnd.plotly.v1+json": {
       "config": {
        "plotlyServerURL": "https://plot.ly"
       },
       "data": [
        {
         "hoverinfo": "text",
         "hovertext": [
          "Child removal and gender identity.",
          "VULNERABLE CHILD PROTECTION ACT -- Adds to existing law to establish provisions regarding vulnerable child protection.",
          "Vulnerable Child Protection Act",
          "Enacting the protecting children's bodies act.",
          "The purpose of this bill is relating to gender reassignment medical services for minors; making findings and declarations; defining sex; establishing prohibited treatment for minors; providing exceptions; creating responsibilities for school personnel; and establishing consequences for violations of article",
          "To Create The Vulnerable Child Protection Act; And To Prohibit Gender Reassignment Services For Minors.",
          "The bill prohibits government agents, other than law-enforcement personnel, from encouraging or coercing a minor to withhold information from the minor's parent.",
          "Under current law, coverage of these interventions through Medicare and Medicaid is generally determined at the state level.",
          "Transgender Medical Treatments and Procedures Amendments",
          "Crime and punishment; providing definition; providing certain penalty.",
          "Gender-transition procedures generally include certain surgeries or hormone therapies that change the body of an individual to correspond to a sex that is discordant with the individual's biological sex.",
          "Additionally, if a state requires medical practitioners to perform gender-transition procedures, that state shall be ineligible for federal funding from the Department of Health and Human Services.",
          "Public health, prohibits medical procedures on minor children intended to alter apprearance of gender with exceptions, provides for certain disclosures by school officials, establishes criminal penalties",
          "A bill to amend the Internal Revenue Code of 1986 to deny the trade or business expense deduction for the reimbursement of employee costs of child gender transition procedure or travel to obtain an abortion.",
          "Health care; creating the Oklahoma Save Adolescents from Experimentation (SAFE) Act; prohibiting gender transition procedures; providing for administrative and civil enforcement.",
          "Gender transition; prohibitions; hormone therapies",
          "Establishes \"\"Child Protection and Anti-Mutilation Act.\"\"",
          "As enacted, prohibits a healthcare provider from performing on a minor or administering to a minor a medical procedure if the performance or administration of the procedure is for the purpose of enabling a minor to identify with, or live as, a purported identity inconsistent with the minor’s sex.",
          "Relating to a prohibition on funding for gender reassignment.",
          "Health care; prohibiting gender transition procedures for children; providing for administrative, criminal and civil enforcement.",
          "Crimes: penalties; penalties for parents or guardians who procure gender transition surgeries or irreversible hormonal procedures for children under 18; provide for.",
          "Relating to protection of persons from participation in a health care service for reasons of conscience; providing a civil remedy; authorizing disciplinary action.",
          "Disallows a business expense tax deduction for any reimbursement paid by an employer to an employee for travel expenses to obtain an abortion, or for the costs of any gender transition procedure for the employee's minor child.",
          "Prohibiting gender transition procedures for minors, relative to sex and gender in public schools, and relative to the definition of conversion therapy.",
          "Gender affirming care includes performing surgery, administering medication, or performing other procedures for the purpose of changing the body of an individual to correspond to a sex that differs from the individual's biological sex.",
          "An Act to amend 448.02 (3) (a); and to create 146.36 and 632.8983 of the statutes; Relating to: gender transition procedures.",
          "An Act To Prohibit Gender Reassignment Surgery From Being Performed Upon A Minor; To State Legislative Intent; To Define Terms; To Criminalize Any Person That Performs A Gender Reassignment Surgery Upon A Minor For The Purpose Of Assisting A Minor With A Gender Transition; To Provide Criminal Penalties; To Provide That The Performance Of A Gender Reassignment Surgery Upon A Minor By A Medical Professional Shall Be Unprofessional Conduct; To Require A Medical Professional's Licensing Or Certifying Board To Revoke The Licensure Of The Medical Professional If It Was Determined That A Gender Reassignment Surgery Was Performed Upon A Minor; To Provide A Civil Penalty For Any Medical Professional Who Performs A Gender Reassignment Surgery Upon A Minor; To Provide A Good-faith Exception For A Minor Born With A Medically Verifiable Genetic Disorder Of Sexual Development; To Provide A Private Cause Of Action For Violations Of This Act; To Provide That The Provisions Of This Act Are Severable; And For Related Purposes.",
          "As introduced, prohibits any managed care organization that contracts with the bureau of TennCare to provide medical assistance from providing reimbursement or coverage for a medical procedure if the performance or administration of the procedure is for the purpose of enabling a person to identify with, or live as, a purported identity inconsistent with the person's sex, or treating purported discomfort or distress from a discordance between a person's sex and asserted identity.",
          "Enacting the Kansas child mutilation prevention act to criminalize performing gender reassignment surgery or prescription of hormone replacement therapy on certain persons and providing grounds for unprofessional conduct for healing arts licensees.",
          "It also provides that a minor who receives such an intervention may bring a civil action against each person who performed that intervention.",
          "Adopt the Let Them Grow Act",
          "Health care; prohibiting gender reassignment medical treatment for minors; providing for certain civil actions and relief.",
          "To amend the Internal Revenue Code of 1986 to deny the trade or business expense deduction for the reimbursement of employee costs of child gender transition procedure or travel to obtain an abortion.",
          "Creates provisions relating to gender transition procedures",
          null
         ],
         "marker": {
          "color": "#CFD8DC",
          "opacity": 0.5,
          "size": 5
         },
         "mode": "markers+text",
         "name": "other",
         "showlegend": false,
         "type": "scattergl",
         "x": [
          10.238794326782227,
          10.36607837677002,
          10.34611701965332,
          10.354172706604004,
          10.795994758605957,
          10.46597671508789,
          8.55539321899414,
          7.8152923583984375,
          9.632830619812012,
          8.825478553771973,
          9.787610054016113,
          8.289875030517578,
          10.275702476501465,
          9.8370943069458,
          10.693203926086426,
          9.519657135009766,
          10.26452922821045,
          8.892234802246094,
          9.615680694580078,
          10.402545928955078,
          9.350722312927246,
          8.06009292602539,
          9.729426383972168,
          10.21877670288086,
          9.60547924041748,
          10.838188171386719,
          10.243273735046387,
          8.836298942565918,
          10.091986656188965,
          8.755706787109375,
          10.20160961151123,
          10.400026321411133,
          9.750277519226074,
          10.475198745727539,
          9.750921249389648
         ],
         "y": [
          10.393017768859863,
          8.36472225189209,
          8.369047164916992,
          9.027386665344238,
          9.982263565063477,
          9.330345153808594,
          9.27958869934082,
          9.38418960571289,
          11.264580726623535,
          8.111037254333496,
          11.067571640014648,
          10.999703407287598,
          9.213852882385254,
          11.702012062072754,
          9.448009490966797,
          10.846522331237793,
          8.879364013671875,
          9.638956069946289,
          11.42266845703125,
          9.457236289978027,
          9.828883171081543,
          8.41086483001709,
          11.75692367553711,
          9.65275764465332,
          11.244538307189941,
          11.079855918884277,
          10.856535911560059,
          9.979398727416992,
          9.77808666229248,
          8.65884780883789,
          9.108342170715332,
          9.448051452636719,
          11.776500701904297,
          11.010077476501465,
          9.963874816894531
         ]
        },
        {
         "hoverinfo": "text",
         "hovertext": [
          "Provides that, if the attorney general determines that a school corporation or qualified school: (1) discloses a student education record, or any information in a student education record; or (2) has a student who is less than 18 years of age and is not emancipated participate in any medical inspection, medical treatment, mental health assessment, mental health service, psychiatric or psychological examination or test, or psychiatric or psychological treatment without the informed written consent of the student's parent; the attorney general may assess a civil penalty against the school corporation, charter school, or laboratory school.",
          "Provides that each school corporation or qualified school shall provide for all students in grades 6 through 12 as part of required recitation concerning the system of government in Indiana and in the United States, instruction that socialism, Marxism, communism, totalitarianism, or similar political systems are incompatible with and in conflict with the principles of freedom upon which the United States was founded.",
          "Provides that a parent of a student or an emancipated student who attends a school corporation or qualified school may opt out of a face mask or face covering requirement.",
          "Provides that the attorney general may assess civil penalties if the attorney general determines a protected right violation occurred.",
          "Provides that a protected right petitioner may appeal a school corporation's or qualified school's findings to the department.",
          "Defines \"protected right petitioner\".",
          "The Department of Justice or a parent or guardian may bring a civil action against a school for violations.",
          "Makes changes to information that must be included on a school corporation's annual performance report.",
          "Defines \"protected right violations\".",
          "Provides that the governor, a state agency, a local health board or local health officer, or a school corporation or qualified school may not require a student of a school corporation or qualified school to quarantine against COVID-19 or other communicable disease if the student is asymptomatic.",
          "Education matters.",
          "Provides that, after December 31, 2020, the list of communicable diseases that require documentation of immunity for a student may be expanded or modified only by an act of the general assembly.",
          "Requires the department to appoint an administrative law judge to adjudicate appeals.",
          "Prohibits an elementary or secondary school from receiving federal funds unless the school complies with specified requirements related to parental consent and student gender identity.",
          "Provides that the parent of a student or protected right petitioner may bring a civil action for certain violations.",
          "Provides that a school corporation or qualified school may not take retaliatory action against a protected right petitioner or an individual related to or associated with the protected right petitioner.",
          "Any such plan shall include provision for parental participation to the extent requested by the parent.",
          "Provides that the consent requirements for certain student personal analysis, evaluations, or surveys apply even if the analysis, evaluation, or survey is directly related to academic instruction.",
          "Provides that a school employee or a school staff member is not prohibited from responding to a question from a student regarding certain topics.",
          "Requires district school boards to adopt procedures that comport with certain provisions of law for notifying student's parent of specified information; requires such procedures to reinforce fundamental right of parents to make decisions regarding upbringing & control of their children; prohibits school district from adopting procedures or student support forms that prohibit school district personnel from notifying parent about specified information or that encourage student to withhold from parent such information; prohibits school district personnel from discouraging or prohibiting parental notification & involvement in critical decisions affecting student's mental, emotional, or physical well-being; prohibits classroom discussion about sexual orientation or gender identity in certain grade levels; requires school districts to notify parents of healthcare services; authorizes parent to bring action against school district to obtain declaratory judgment; provides for additional award of injunctive relief, damages, & reasonable attorney fees & court costs to certain parents.",
          "Requires the department of education (department) to develop a notice form that may be used by a parent or an emancipated student to indicate that the parent or emancipated student opts out of the face mask or face covering requirement.",
          "Provides that a school corporation or qualified school may not provide instruction that socialism, Marxism, totalitarianism, or similar political systems are compatible with the principles of freedom upon which the United States was founded.",
          "Provides that, if a school corporation or qualified school uses a third party vendor in providing a personal analysis, evaluation, or survey that reveals or attempts to affect a student's attitudes, habits, traits, opinions, beliefs, or feelings, the third party vendor and the school corporation or public school may not collect or maintain the responses to or results of the analysis, evaluation, or survey in a manner that would identify the responses or results of an individual student.",
          "Establishes certain consent requirements regarding students.",
          "Requires the attorney general or the attorney general's designee to review a school corporation's or qualified school's findings or the department's final order.",
          "Defines \"qualified school\".",
          "Provides that a school corporation or qualified school is prohibited from subjecting any student to, or making available, disseminating, or providing to any student, any obscene matter or performance or certain matters or performances harmful to minors.",
          "Requires the department to issue a final order.",
          "Makes changes to information that must be included on a school's longitudinal dashboard.",
          "Modifies provisions relating to fiduciary duties for investments of public employee retirement systems",
          "Provides that the governor, a state agency, a local health board or local health officer, or a school corporation or qualified school may not require, as a condition for employment, enrollment, attendance, or participation in a school corporation or qualified school or in a school extracurricular activity, a student to be immunized against COVID-19 or other communicable disease.",
          "Provides that a school, an employee or staff member of a school, or a third party vendor used by a school to provide instruction may not provide any instruction to a student in prekindergarten through grade 3 on human sexuality.",
          "Authorizes a tax on the endowments of qualifying institutions of higher education and a corresponding endowment tax revenue trigger to income tax rates",
          "Requires the department to develop and post on the department's Internet web site a model plan for presenting the learning material or educational activity information.",
          "Establishes procedures for a protected right petitioner to file a complaint form alleging a protected right violation occurred within a school corporation or qualified school.",
          "Requires, not later than June 30, 2022, and not later than June 30 each year thereafter, each qualified school to post on the qualified school's Internet web site, in a manner that is accessible by the public, certain information regarding learning materials and educational activities.",
          null
         ],
         "marker": {
          "opacity": 0.5,
          "size": 5
         },
         "mode": "markers+text",
         "name": "Student Parental Rights in School",
         "text": [
          "",
          "",
          "",
          "",
          "",
          "",
          "",
          "",
          "",
          "",
          "",
          "",
          "",
          "",
          "",
          "",
          "",
          "",
          "",
          "",
          "",
          "",
          "",
          "",
          "",
          "",
          "",
          "",
          "",
          "",
          "",
          "",
          "",
          "",
          "",
          "",
          "Student Parental Rights in School"
         ],
         "textfont": {
          "size": 12
         },
         "type": "scattergl",
         "x": [
          9.983476638793945,
          10.178962707519531,
          10.306803703308105,
          9.349571228027344,
          9.491909980773926,
          9.431811332702637,
          9.535266876220703,
          9.587848663330078,
          9.35695743560791,
          10.270179748535156,
          10.176884651184082,
          10.432117462158203,
          9.018649101257324,
          9.918309211730957,
          9.464077949523926,
          9.609856605529785,
          10.175081253051758,
          9.951668739318848,
          10.098609924316406,
          10.1322021484375,
          10.347512245178223,
          10.228747367858887,
          10.023478507995605,
          10.087981224060059,
          9.467777252197266,
          10.028825759887695,
          10.104175567626953,
          9.026138305664062,
          9.846624374389648,
          9.390722274780273,
          10.33024787902832,
          10.167441368103027,
          9.79836368560791,
          9.92640209197998,
          9.509493827819824,
          10.020039558410645,
          9.854839324951172
         ],
         "y": [
          5.971643924713135,
          6.1368584632873535,
          6.146992206573486,
          6.62298583984375,
          6.173280239105225,
          6.536060810089111,
          6.197884559631348,
          5.818445205688477,
          6.6349592208862305,
          5.795316219329834,
          5.639716625213623,
          5.729806900024414,
          6.014535427093506,
          6.09021520614624,
          6.596092700958252,
          6.246163845062256,
          6.429379940032959,
          5.838952541351318,
          5.8379740715026855,
          6.334924697875977,
          6.203841209411621,
          5.986435890197754,
          5.9529523849487305,
          6.024674892425537,
          5.989318370819092,
          5.571214199066162,
          5.965142726898193,
          6.005053997039795,
          5.625064849853516,
          5.745044708251953,
          5.881872653961182,
          6.138184547424316,
          6.007800102233887,
          5.7042741775512695,
          6.357557773590088,
          5.583242893218994,
          6.042607307434082
         ]
        },
        {
         "hoverinfo": "text",
         "hovertext": [
          " Laid on table; no pending motion (S)",
          " Removed from table (H)",
          "Effective date.",
          "Referred to Committee 1/28/20",
          "(8/1/21)",
          " Re-referred to Rules Committee",
          "Introduced 2/27/20",
          " Judiciary Replaces EDC Referral",
          "Hearing scheduled 3/17/20",
          "Introduced 1/14/20",
          "Passed by House 1/29/20; Deferred to 41st legislative day 2/10/20",
          "Referred to Committee 2/11/20",
          "136b of 1931 PA 328 (MCL 750.136b).",
          "Referred to committee 3/10/20",
          "Public Hearing Completed 3/2/20",
          "Dead/Failed in Committee 3/3/20",
          "Dead/Failed 2/4/20",
          "Introduced; Referred to Committee 2/7/20, 2/11/20",
          "Dead/Failed",
          "Postponed Indefinitely 2/13/20",
          "Referred to Committee 2/10/20",
          "Filed for bills not passed 3/12/20",
          "Dead/Failed in committee 3/14/20",
          null
         ],
         "marker": {
          "opacity": 0.5,
          "size": 5
         },
         "mode": "markers+text",
         "name": "Committee Deadlines and Hearings",
         "text": [
          "",
          "",
          "",
          "",
          "",
          "",
          "",
          "",
          "",
          "",
          "",
          "",
          "",
          "",
          "",
          "",
          "",
          "",
          "",
          "",
          "",
          "",
          "",
          "Committee Deadlines and Hearings"
         ],
         "textfont": {
          "size": 12
         },
         "type": "scattergl",
         "x": [
          5.803141117095947,
          6.040446758270264,
          5.960768222808838,
          5.930561542510986,
          5.923450469970703,
          5.95785665512085,
          5.939087390899658,
          6.093291759490967,
          6.145313262939453,
          5.994786739349365,
          5.874073028564453,
          6.001817226409912,
          6.310877799987793,
          5.838415145874023,
          6.053683757781982,
          5.715640544891357,
          5.6602983474731445,
          6.171881675720215,
          5.655050277709961,
          5.871451377868652,
          5.9546308517456055,
          5.8084187507629395,
          5.728153705596924,
          5.9318742752075195
         ],
         "y": [
          4.8146772384643555,
          4.996240615844727,
          4.435984134674072,
          4.7654523849487305,
          4.512635707855225,
          4.8003668785095215,
          4.417206287384033,
          4.935131549835205,
          4.750278949737549,
          4.350116729736328,
          4.635278701782227,
          4.717291831970215,
          4.818051815032959,
          4.771676063537598,
          4.7103400230407715,
          4.547648906707764,
          4.544437408447266,
          4.623593807220459,
          4.634909629821777,
          4.522932052612305,
          4.72513484954834,
          4.7668657302856445,
          4.6679463386535645,
          4.672356605529785
         ]
        },
        {
         "hoverinfo": "text",
         "hovertext": [
          "Relating to health benefit plan coverage for and prohibitions on gender transitioning procedures and treatments provided to certain individuals; creating a criminal offense.",
          "Public health and safety; definitions; health care professionals; gender transition; exceptions; statute of limitations; license revocation; state license holders; certain claims; civil actions; attorney fees; effective date.",
          "Relating to the provision of and professional liability insurance coverage for gender transitioning or gender reassignment medical procedures and treatments for certain children.",
          "Provides relative to gender therapy and minors.",
          "Relating to professional liability insurance coverage for and prohibitions on the provision to certain children of procedures and treatments for gender transitioning, gender reassignment, or gender dysphoria.",
          "Public health and safety; defining terms; health care professionals; gender transition procedures; referrals; exceptions; public funds; Medicaid program reimbursements; felony penalties; statute of limitations; unprofessional conduct; license revocation; statute of limitations; claims or defenses; civil actions; administrative remedies; attorney fees; Attorney General; codification; effective date.",
          "Relating to professional liability insurance coverage for and prohibitions on the provision to certain children of procedures and treatments for gender transitioning, gender reassignment, or gender dysphoria and to the abuse of a child.",
          "Relating to professional liability insurance coverage for and prohibitions on providing to certain children procedures and treatments for gender transitioning, gender reassignment, or gender dysphoria; creating a criminal offense.",
          "Relating to prohibitions on the provision to certain children of procedures and treatments for gender transitioning, gender reassignment, or gender dysphoria and on the use of public money or public assistance to provide those procedures and treatments.",
          "A bill for an act relating to the statute of limitations for recovery from injuries sustained from treatment for identity disorder.",
          "Relating to liability for the provision to certain children of procedures and treatments for gender transitioning, gender reassignment, or gender dysphoria; providing a civil penalty.",
          "Relating to the offense of genital mutilation.",
          "Relating to civil liability for, governmental health plan coverage of, and public funding for gender modification procedures and treatments.",
          "Relating to the statute of limitations on a health care liability claim involving certain gender modification drugs provided to and procedures performed on a minor.",
          null
         ],
         "marker": {
          "opacity": 0.5,
          "size": 5
         },
         "mode": "markers+text",
         "name": "Gender Transitioning Limitations",
         "text": [
          "",
          "",
          "",
          "",
          "",
          "",
          "",
          "",
          "",
          "",
          "",
          "",
          "",
          "",
          "Gender Transitioning Limitations"
         ],
         "textfont": {
          "size": 12
         },
         "type": "scattergl",
         "x": [
          10.147499084472656,
          10.140111923217773,
          10.50953483581543,
          10.546113014221191,
          10.470080375671387,
          10.133986473083496,
          10.502325057983398,
          10.33375072479248,
          10.209589004516602,
          10.672873497009277,
          10.434476852416992,
          8.992450714111328,
          10.422402381896973,
          10.557040214538574,
          10.290873527526855
         ],
         "y": [
          11.75511646270752,
          12.04428482055664,
          11.872435569763184,
          11.893296241760254,
          11.90945816040039,
          12.020796775817871,
          11.953639030456543,
          11.910082817077637,
          11.514625549316406,
          11.540270805358887,
          11.86778450012207,
          9.272041320800781,
          11.898098945617676,
          12.009844779968262,
          11.675841331481934
         ]
        },
        {
         "hoverinfo": "text",
         "hovertext": [
          "Health care; prohibiting certain uses of public funds, public facilities, and public employees.",
          "Prohibited health care for minors.",
          "Health care; prohibiting certain medical treatment for minors; providing administrative penalty.",
          "A minor who receives these medical interventions may not be arrested or prosecuted for an offense under this bill.",
          "Health care; prohibiting provision of certain services to minor; authorizing certain civil action; authorizing reward of certain damages or relief.",
          "Health services for minors; prohibiting certain medical treatment for minors; providing penalty.",
          "Expand provisions regarding the protection of minors from certain exhibitions.",
          "Provides criminal penalties for health care practitioners who engage in or cause specified practices to be performed on minor under certain conditions.",
          "Health care; prohibiting provision of certain services to minor; authorizing certain civil action; authorizing reward of certain damages or relief; creating certain criminal offense and penalty.",
          "Prohibit certain medical and surgical interventions on minor patients.",
          "Crime and punishment; making certain medical treatment unlawful; defining term; providing for certain penalty.",
          "An individual who performs these interventions on a minor is subject to criminal penalties—a fine, a prison term of up to five years, or both.",
          "Medical Treatment for Minors Act",
          "Prohibited services relating to care of minors.",
          null
         ],
         "marker": {
          "opacity": 0.5,
          "size": 5
         },
         "mode": "markers+text",
         "name": "Prohibiting Medical Treatment for Minors",
         "text": [
          "",
          "",
          "",
          "",
          "",
          "",
          "",
          "",
          "",
          "",
          "",
          "",
          "",
          "",
          "Prohibiting Medical Treatment for Minors"
         ],
         "textfont": {
          "size": 12
         },
         "type": "scattergl",
         "x": [
          8.523552894592285,
          8.500102043151855,
          8.554186820983887,
          8.68307113647461,
          8.46718692779541,
          8.608087539672852,
          8.775816917419434,
          8.518842697143555,
          8.468887329101562,
          8.53020191192627,
          8.51539134979248,
          8.793498992919922,
          8.631329536437988,
          8.573259353637695,
          8.581672668457031
         ],
         "y": [
          8.272491455078125,
          8.564276695251465,
          8.417034149169922,
          8.804720878601074,
          8.136175155639648,
          8.425748825073242,
          8.38541316986084,
          8.752571105957031,
          8.167929649353027,
          8.744587898254395,
          8.09957504272461,
          8.975906372070312,
          8.692934036254883,
          8.744593620300293,
          8.513140678405762
         ]
        },
        {
         "hoverinfo": "text",
         "hovertext": [
          "Prohibits hormonal or surgical gender reassignment for a child under eighteen years of age",
          "Prohibition of Certain Hormone/Surgery/Minors",
          "Prohibits medical providers from administering any medical or surgical treatment for the purpose of gender reassignment for anyone under the age of eighteen",
          "Prohibits a physician or other practitioner from knowingly providing gender transition procedures to an individual who is less than 18 years of age (minor) that are intended to alter the gender of the minor or delay puberty.",
          "Prohibits physicians from performing irreversible gender reassignment surgery on minor.",
          "As enacted, specifies that standard medical practice does not involve prescribing hormone treatment for gender dysphoric or gender incongruent prepubertal minors; prohibits a healthcare prescriber from prescribing a course of treatment that involves hormone treatment for gender dysphoric or gender incongruent prepubertal minors, except that a healthcare prescriber may prescribe a course of treatment that involves hormone treatments for prepubertal minors for diagnoses of growth deficiencies or other diagnoses unrelated to gender dysphoria or gender incongruency.",
          "Prohibits specified health care professionals from providing gender transition procedures to a minor that are intended to alter the gender of the minor or delay puberty.",
          "Prohibits a physician or other practitioner from: (1) knowingly providing gender transition procedures to an individual who is less than 18 years of age (minor); and (2) aiding or abetting another physician or practitioner in the provision of gender transition procedures to a minor.",
          "Makes a medical practitioner who performs a gender-transition procedure on an individual who is less than 18 years of age liable for any physical, psychological, emotional, or physiological harms from the procedure for 30 years after the individual turns 18.",
          "As introduced, prohibits the provision of sexual identity change therapy to prepubescent minors; prohibits the provision of sexual identity change therapy to minors who have entered puberty unless a parent or guardian has written recommendations for the therapy from at least three physicians; punishes violations as child abuse; designates violations by healthcare professionals as professional misconduct.",
          "Public health, medical procedures for minors intended to alter appearance of gender prohibited, exceptions provided, criminal penalties provided",
          "Prohibits certain procedures to alter the sex of a minor child",
          null
         ],
         "marker": {
          "opacity": 0.5,
          "size": 5
         },
         "mode": "markers+text",
         "name": "Prohibits Gender Transition Procedures for Minors",
         "text": [
          "",
          "",
          "",
          "",
          "",
          "",
          "",
          "",
          "",
          "",
          "",
          "",
          "Prohibits Gender Transition Procedures for Minors"
         ],
         "textfont": {
          "size": 12
         },
         "type": "scattergl",
         "x": [
          9.488828659057617,
          9.1385498046875,
          9.45506763458252,
          9.10045051574707,
          9.369094848632812,
          9.089350700378418,
          9.211654663085938,
          9.06437873840332,
          9.158882141113281,
          9.050235748291016,
          9.381901741027832,
          9.629171371459961,
          9.26146411895752
         ],
         "y": [
          10.386488914489746,
          10.495048522949219,
          10.261798858642578,
          10.283265113830566,
          10.353009223937988,
          10.41470718383789,
          10.067567825317383,
          10.184978485107422,
          10.317278861999512,
          9.808063507080078,
          10.030029296875,
          10.4695463180542,
          10.2559814453125
         ]
        },
        {
         "hoverinfo": "text",
         "hovertext": [
          "Provides that the state of Indiana, a political subdivision or other governmental entity of the state of Indiana, a government official, or any other person acting under the color of law shall not infringe on the fundamental right of a parent to direct the upbringing, education, health care, and mental health of the parent's child without demonstrating that the infringement: (1) is required by a compelling governmental interest of the highest order as long recognized in the history and traditions of the state of Indiana; and (2) as applied to the child, is narrowly tailored and not otherwise served by a less restrictive means.",
          "Parental rights.",
          "Authorizes court of state to enter, modify, or stay child custody determination under specified circumstances; prohibits persons & entities from expending funds for reimbursement for specified clinical interventions; prohibits person's biological sex from being changed on birth certificate; prohibits gender clinical interventions for minors; authorizes certain persons to refuse to participate in gender clinical interventions; prohibits health insurance policy & health maintenance contract from providing coverage for gender clinical interventions; provides physician liability & authorizes award of specified damages, fees, & costs.",
          "Provides that the department of child services may not classify a report of child abuse or neglect as substantiated, and a child may not be removed from the child's parent, guardian, or custodian, solely on the basis of the parent, guardian, or custodian: (1) referring to and raising the child consistent with the child's biological sex; or (2) declining to consent to the child receiving: (A) specified medication; (B) a medical procedure the purpose of which is to alter the apparent gender or sex of the child or affirm the child's perception of the child's gender or sex in a manner inconsistent with the child's biological sex; or (C) counseling or other mental health services the purpose of which is to affirm the child's perception of the child's gender or sex if the child's perception is inconsistent with the child's biological sex.",
          "Granting courts of this state temporary emergency jurisdiction over a child present in this state if the child has been subjected to or is threatened with being subjected to sex-reassignment prescriptions or procedures; providing that, for purposes of warrants to take physical custody of a child in certain child custody enforcement proceedings, serious physical harm to the child includes, but is not limited to, being subjected to sex-reassignment prescriptions or procedures; prohibiting certain public entities from expending state funds for the provision of sex-reassignment prescriptions or procedures; requiring certain licensed facilities, by a specified date and as a condition of licensure thereafter, to provide a signed attestation of specified information to the Agency for Health Care Administration; prohibiting sex-reassignment prescriptions and procedures for patients younger than 18 years of age, etc.",
          "Specifies that the parental rights and responsibilities do not: (1) authorize a parent to: (A) abuse or neglect a child; or (B) make the decision to end the child's life; or (2) prohibit a court from issuing an order that is otherwise permitted by law.",
          "Relating to prohibiting the conservatorship of a child by a parent who removes the child from this state for certain purposes relating to gender reassignment.",
          "Provides that if the juvenile court finds that a child is a child in need of services because the child substantially endangers the child's own or another's health, the court shall release the child to the child's parent, guardian, or custodian and may not enter a dispositional decree ordering removal of the child, unless: (1) the court also finds that the child is a child in need of services for another reason; or (2) the parent, guardian, or custodian consents to the child being removed from the child's home.",
          "Creates a right of action for violation of a parent's rights with respect to the upbringing, education, and health care of the parent's child.",
          "The bill also clarifies, in the definition of the term \"abused or neglected child,\" that in no event shall referring to and raising the child in a manner consistent with the child's biological sex, including related mental health or medical decisions, be considered abuse or neglect.",
          null
         ],
         "marker": {
          "opacity": 0.5,
          "size": 5
         },
         "mode": "markers+text",
         "name": "Child Sex Reassignment Legislation",
         "text": [
          "",
          "",
          "",
          "",
          "",
          "",
          "",
          "",
          "",
          "",
          "Child Sex Reassignment Legislation"
         ],
         "textfont": {
          "size": 12
         },
         "type": "scattergl",
         "x": [
          9.944729804992676,
          10.061543464660645,
          9.83450984954834,
          10.22309398651123,
          9.823969841003418,
          10.019072532653809,
          9.911983489990234,
          9.9901704788208,
          9.927613258361816,
          10.282443046569824,
          10.001912117004395
         ],
         "y": [
          7.235217094421387,
          7.392437934875488,
          7.845345497131348,
          8.001409530639648,
          7.747120380401611,
          7.3498053550720215,
          7.481616973876953,
          7.569973945617676,
          7.253323554992676,
          8.107378005981445,
          7.598362922668457
         ]
        },
        {
         "hoverinfo": "text",
         "hovertext": [
          "An Act To Enact The Mississippi Help Not Harm Act; To Create New Section 11-77-1, Mississippi Code Of 1972, To Define Terms; To Create New Section 11-77-3, Mississippi Code Of 1972, To Prohibit Any Person From Knowingly Performing Or Providing Gender Reassignment Surgery Or Services To A Minor; To Prohibit Any Person From Knowingly Engaging In Conduct That Aids Or Abets In Gender Reassignment Surgery Or Services Being Performed On Or Provided To A Minor; To Provide That Any Licensed Medical Professional, Including, But Not Limited To, A Physician, Osteopath, Physician Assistant, Nurse Practitioner Or Nurse Who Performs Or Provides Gender Reassignment Surgery Or Services To A Minor Shall Have Their License Revoked; To Provide A Private Cause Of Action Against A Physician, Osteopath, Hospital, Prescribing Caregiver, Clinic Or Any Other Health Care Facility For Injuries Arising Out Of The Course Of Medical, Surgical Or Other Professional Services Related To The Performance Of Gender Reassignment Surgery Or Services; To Provide That This Claim Must Be Brought Within 30 Years From The Date The Alleged Act Occurred; To Provide That The Attorney General May Bring An Action To Enforce Compliance With The Act; To Provide Certain Exceptions Of The Act; To Amend Section 73-25-29, Mississippi Code Of 1972, To Conform To The Provisions Of This Act; To Amend Section 73-25-33, Mississippi Code Of 1972, To Revise Physician's Scope Of Practice To Provide That The Practice Of Medicine Shall Not Mean To Knowingly Provide Gender Reassignment Surgery Or Services For Minors; To Amend Section 11-46-5, Mississippi Code Of 1972, To Establish That An Employee Shall Not Be Considered As Acting Within The Course And Scope Of His Employment And A Governmental Entity May Be Liable Or Be Considered To Have Waived Immunity For Any Conduct Of Its Employee If The Employee's Conduct Violated The Provisions Of This Act; To Create New Section 43-13-117.7, Mississippi Code Of 1972, To Prohibit The Division Of Medicaid From Reimbursing Any Entity For Part Or All Of The Costs Of Care And Services Rendered For Gender Reassignment Surgery Or Services; To Create New Section 83-9-401, Mississippi Code Of 1972, To Prohibit Health Coverage Plans That Are Funded Wholly Or In Part By State Funds Or State-employee Contributions From Reimbursing Or Authorizing Payment Of Part Or All Of The Costs Of Care And Services Rendered By Any Entity For Gender Reassignment Surgery Or Services; To Amend Section 11-1-60, Mississippi Code Of 1972, To Provide That In Any Cause Of Action Filed On Or After July 1, 2023, For A Claim Brought Under Section 11-77-3, In The Event The Trier Of Fact Finds The Defendant Liable, There Shall Not Be A Limitation Placed On The Noneconomic Damages Award That A Trier Of Fact May Award To The Plaintiff; And For Related Purposes.",
          "An Act To Amend Section 83-9-22, Mississippi Code Of 1972, To Prohibit A Health Coverage Plan Under An Insurance Policy Or Other Plan Providing Healthcare Coverage In This State From Being Required To Provide Coverage For Any Gender Reassignment Surgery Or Service; And For Related Purposes.",
          "An Act To Enact The Mississippi Save Adolescents From Experimentation (safe) Act; To Provide For The Legislative Findings Related To The Safe Act; To Define Certain Terms Used In The Act; To Provide That A Physician Or Other Health Care Professional Shall Not Provide Gender Transition Procedures To Any Individual Under 18 Years Of Age; To Provide That A Physician Or Other Health Care Professional Shall Not Refer Any Individual Under 18 Years Of Age To Any Health Care Professional For Gender Transition Procedures; To Allow For Certain Exceptions To The Prohibition That Physicians Cannot Provide Such Services; To Provide That Public Funds Shall Not Be Distributed To Any Entity Or Individual That Provides Gender Transition Procedures To An Individual Under 18 Years Of Age; To Provide For Enforcement Of The Act; To Prohibit A Health Benefit Plan Under An Insurance Plan From Providing Insurance Coverage Of Gender Transition Procedures For Minors; And For Related Purposes.",
          "An Act To Be Known As The Mississippi Help Not Harm Act; To Create New Section 11-77-1, Mississippi Code Of 1972, To Define Terms; To Create New Section 11-77-3, Mississippi Code Of 1972, To Prohibit Any Person From Knowingly Performing Or Providing Gender Reassignment Surgery Or Services To A Minor; To Provide That Any Licensed Medical Professional Who Performs Or Provides Gender Reassignment Surgery Or Services To A Minor Shall Have His Or Her License Revoked; To Provide A Private Cause Of Action Against A Physician, Osteopath, Hospital, Prescribing Caregiver, Clinic And Any Other Health Care Facility For Injuries Arising Out Of The Course Of Medical, Surgical Or Other Professional Services Related To The Performance Of Gender Reassignment Surgery Or Services; To Provide That This Claim Must Be Brought Within Thirty Years From The Date That The Alleged Act Occurred; To Authorize The Attorney General To Bring An Action To Enforce Compliance With This Section; To Provide That This Section Does Not Apply To Certain Services, Treatments And Procedures; To Amend Section 73-25-29, Mississippi Code Of 1972, To Conform To The Provisions Of This Act; To Amend Section 73-25-33, Mississippi Code Of 1972, To Revise The Definition Of The Practice Of Medicine To Exclude Gender Reassignment Surgery Or Services For Minors; To Amend Section 11-46-5, Mississippi Code Of 1972, To Provide That Under The Tort Claims Act An Employee Shall Not Be Considered As Acting Within The Course And Scope Of His Or Her Employment And A Governmental Entity May Be Liable Or Be Considered To Have Waived Immunity For Any Conduct Of Its Employee If The Employee's Conduct Violated The Provisions Of This Act; To Create New Section 43-13-117.7, Mississippi Code Of 1972, To Prohibit The Division Of Medicaid From Reimbursing Any Entity For Part Or All Of The Costs Of Care And Services Rendered For Gender Reassignment Surgery Or Services; To Create New Section 83-9-401, Mississippi Code Of 1972, To Prohibit Health Coverage Plans That Are Funded Wholly Or In Part By State Funds Or State-employee Contributions From Reimbursing Or Authorizing Payment Of Part Or All Of The Costs Of Care And Services Rendered By Any Entity For Gender Reassignment Surgery Or Services; To Amend Section 11-1-60, Mississippi Code Of 1972, To Provide That In Any Cause Of Action Filed On Or After July 1, 2023, For A Claim Brought Under Section 11-77-3, If The Trier Of Fact Finds The Defendant Liable, There Shall Not Be A Limitation Placed On The Noneconomic Damages Award That A Trier Of Fact May Award To The Plaintiff; And For Related Purposes.",
          "An Act To Amend Section 43-21-105, Mississippi Code Of 1972, To Revise The Definition Of Child Abuse To Include Gender Reassignment; And For Related Purposes.",
          "An Act To Create The \"regulate Experimental Adolescent Procedures (reap)\" Act For Any Person Under Eighteen Years Of Age; To Provide Definitions For The Act; To Prohibit The Direct Or Indirect Use, Grant, Payment Or Distribution Of Public Funds To Any Entity, Organization Or Individual That Provides Gender Transition Procedures To A Person Under Eighteen Years Of Age; To Provide That Health Care Services Furnished In A State Or Locally-owned Health Care Facility Or By A Physician Or Other Health Care Professional Employed By The State Or Local Government Shall Not Include Gender Transition Procedures For A Person Under Eighteen Years Of Age; To Provide That Amounts Paid During A Taxable Year For Provision Of Gender Transition Procedures Or As Premiums For Health Care Coverage That Includes Coverage For Gender Transition Procedures Are Not Deductible Under The State Income Tax Laws; To Authorize The Attorney General To Bring An Action To Enforce Compliance With This Act; To Create New Section 43-13-117.7, Mississippi Code Of 1972, To Prohibit The Division Of Medicaid From Reimbursing Or Providing Coverage For Gender Transition Procedures For A Person Under Eighteen Years Of Age; To Amend Section 83-9-22, Mississippi Code Of 1972, To Provide That Health Coverage Plans Are Not Required To Include Gender Transition Procedures; To Create New Section 83-9-37, Mississippi Code Of 1972, To Provide That A Health Benefit Plan Under An Insurance Policy Or Other Plan Providing Health Care Coverage Shall Not Include Reimbursement For Gender Transition Procedures For A Person Under Eighteen Years Of Age; To Amend Sections 27-7-17, 73-15-29 And 73-25-29, Mississippi Code Of 1972, To Conform To The Provisions Of This Act; To Amend Section 73-25-33, Mississippi Code Of 1972, To Exclude The Performance Gender Transition Procedures From The \"practice Of Medicine\" Meaning; To Amend Section 11-46-5, Mississippi Code Of 1972, To Exclude From Tort Immunity Violations Of This Act; To Amend Section 41-41-219, Mississippi Code Of 1972, To Conform To The Preceding Section; To Provide Severability If Any Part Of This Act Is Found Unconstitutional; And For Related Purposes.",
          "An Act To Be Known As The Mississippi Save Adolescents From Experimentation (safe) Act; To Provide Legislative Findings Regarding The Risks Of Gender Transition Procedures For Minors; To Provide Definitions Of Certain Terms; To Prohibit Physicians And Other Health Care Professionals From Providing Gender Transition Procedures To Any Person Under Eighteen Years Of Age; To Prohibit Physicians And Other Health Care Professionals From Referring Any Person Under Eighteen Years Of Age To Any Health Care Professional For Gender Transition Procedures; To Provide For Certain Exceptions To Those Prohibitions; To Prohibit The Direct Or Indirect Use, Grant, Payment Or Distribution Of Public Funds To Any Entity, Organization Or Individual That Provides Gender Transition Procedures To A Person Under Eighteen Years Of Age; To Provide That Health Care Services Furnished In A State Or Locally-owned Health Care Facility Or By A Physician Or Other Health Care Professional Employed By The State Or Local Government Shall Not Include Gender Transition Procedures For A Person Under Eighteen Years Of Age; To Provide That Amounts Paid During A Taxable Year For Provision Of Gender Transition Procedures Or As Premiums For Health Care Coverage That Includes Coverage For Gender Transition Procedures Are Not Deductible Under The State Income Tax Laws; To Provide That Any Referral For Or Provision Of Gender Transition Procedures To A Person Under Eighteen Years Of Age By A Physician Or Other Health Care Professional Is Unprofessional Conduct And Is Subject To Discipline By The Appropriate Licensing Entity For The Health Care Professional; To Authorize The Attorney General To Bring An Action To Enforce Compliance With This Act; To Create New Section 43-13-117.7, Mississippi Code Of 1972, To Prohibit The Division Of Medicaid From Reimbursing Or Providing Coverage For Gender Transition Procedures For A Person Under Eighteen Years Of Age; To Amend Section 83-9-22, Mississippi Code Of 1972, And Create New Section 83-9-37, Mississippi Code Of 1972, To Provide That A Health Benefit Plan Under An Insurance Policy Or Other Plan Providing Health Care Coverage Shall Not Include Reimbursement For Gender Transition Procedures For A Person Under Eighteen Years Of Age, And Is Not Required To Provide Coverage For Gender Transition Procedures For A Person Under Eighteen Years Of Age; To Amend Sections 27-7-17, 73-15-29 And 73-25-29, Mississippi Code Of 1972, To Conform To The Provisions Of This Act; And For Related Purposes.",
          "An Act To Prohibit The Administration Of Or The Assistance In The Administration Of Cross Sex Hormones Or Puberty Blocking Drugs For Persons Under Twenty-one Years Of Age; To Prohibit The Performance Of Gender Reassignment Surgery; To Prohibit Physicians And Other Health Care Professionals From Providing Gender Transition Procedures Or Gender Reassignment Surgery To Any Person Under Twenty-one Years Of Age; To Prohibit Physicians And Other Health Care Professionals From Referring Any Person Under A Certain Age To Any Health Care Professional For Gender Transition Or Gender Reassignment Procedures; To Prohibit Parents, Guardians Or Persons Responsible For The Care Of A Person Under A Certain Age From Consenting To Or Providing Puberty-blocking Drugs, Cross Sex Hormones; To Provide For Certain Exceptions To Those Prohibitions; To Amend Section 97-5-39, Mississippi Code Of 1972, To Include Violations Of This Act In The Penalties For Child Abuse; To Amend Section 43-21-105, Mississippi Code Of 1972, To Revise The Definition Of Child Abuse To Include Violation Of This Act; To Amend Section 97-5-51, Mississippi Code Of 1972, To Require Mandatory Reporting Of Persons Who Violate The Provisions Of This Act; To Prohibit The Direct Or Indirect Use, Grant, Payment Or Distribution Of Public Funds To Any Entity, Organization Or Individual That Provides Gender Transition Procedures To A Person Under Twenty-one Years Of Age; To Provide That Health Care Services Furnished In A State Or Locally-owned Health Care Facility Or By A Physician Or Other Health Care Professional Employed By The State Or Local Government Shall Not Include Gender Transition Procedures For A Person Under Twenty-one Years Of Age; To Provide That Amounts Paid During A Taxable Year For Provision Of Gender Transition Procedures Or As Premiums For Health Care Coverage That Includes Coverage For Gender Transition Procedures Are Not Deductible Under The State Income Tax Laws; To Provide That Any Referral For Or Provision Of Gender Transition Procedures To A Person Under Twenty-one Years Of Age By A Physician Or Other Health Care Professional Is Unprofessional Conduct And Is Subject To Discipline By The Appropriate Licensing Entity For The Health Care Professional; To Authorize The Attorney General To Bring An Action To Enforce Compliance With This Act; To Create New Section 43-13-117.7, Mississippi Code Of 1972, To Prohibit The Division Of Medicaid From Reimbursing Or Providing Coverage For Gender Transition Procedures For A Person Under Twenty-one Years Of Age; To Amend Section 83-9-22, Mississippi Code Of 1972, To Provide That Gender Transition Procedures For Persons Under Twenty-one Are Not Required In Health Coverage Plans; To Create New Section 83-9-37, Mississippi Code Of 1972, To Provide That A Health Benefit Plan Under An Insurance Policy Or Other Plan Providing Health Care Coverage Shall Not Include Reimbursement For Gender Transition Procedures For A Person Under Twenty-one Years Of Age; To Amend Sections 27-7-17, 73-15-29 And 73-25-29, Mississippi Code Of 1972, To Conform To The Provisions Of This Act; And For Related Purposes.",
          "An Act To Restrict Transgender Medical Procedures For Any Person Under Twenty-one Years Of Age; To Provide Definitions For The Act; To Prohibit The Administration Of Or The Assistance In The Administration Of Cross Sex Hormones Or Puberty Blocking Drugs; To Prohibit The Performance Of Gender Reassignment Surgery; To Prohibit Physicians And Other Health Care Professionals From Providing Gender Transition Procedures Or Gender Reassignment Surgery To Any Person Under Twenty-one Years Of Age; To Prohibit Physicians And Other Health Care Professionals From Referring Any Person Under A Certain Age To Any Health Care Professional For Gender Transition Or Gender Reassignment Procedures; To Prohibit Parents, Guardians Or Persons Responsible For The Care Of A Person Under A Certain Age From Consenting To Or Providing Puberty-blocking Drugs, Cross Sex Hormones; To Provide Certain Exceptions To Those Prohibitions; To Amend Section 97-5-39, Mississippi Code Of 1972, To Include Violations Of This Act In The Penalties For Child Abuse; To Amend Section 43-21-105, Mississippi Code Of 1972, To Revise The Definition Of Child Abuse To Include Violation Of This Act; To Amend Section 97-5-51, Mississippi Code Of 1972, To Require Mandatory Reporting Of Persons Who Violate The Provisions Of This Act; To Prohibit The Direct Or Indirect Use, Grant, Payment Or Distribution Of Public Funds To Any Entity, Organization Or Individual That Provides Gender Transition Procedures To A Person Under Twenty-one Years Of Age; To Provide That Health Care Services Furnished In A State Or Locally-owned Health Care Facility Or By A Physician Or Other Health Care Professional Employed By The State Or Local Government Shall Not Include Gender Transition Procedures For A Person Under Twenty-one Years Of Age; To Provide That Amounts Paid During A Taxable Year For Provision Of Gender Transition Procedures Or As Premiums For Health Care Coverage That Includes Coverage For Gender Transition Procedures Are Not Deductible Under The State Income Tax Laws; To Provide That Any Referral For Or Provision Of Gender Transition Procedures To A Person Under Twenty-one Years Of Age By A Physician Or Other Health Care Professional Is Unprofessional Conduct And Is Subject To Discipline By The Appropriate Licensing Entity For The Health Care Professional; To Authorize The Attorney General To Bring An Action To Enforce Compliance With This Act; To Create New Section 43-13-117.7, Mississippi Code Of 1972, To Prohibit The Division Of Medicaid From Reimbursing Or Providing Coverage For Gender Transition Procedures For A Person Under Twenty-one Years Of Age; To Amend Section 83-9-22, Mississippi Code Of 1972, To Provide That Health Coverage Plans Are Not Required To Include Gender Transition Procedures; To Create New Section 83-9-37, Mississippi Code Of 1972, To Provide That A Health Benefit Plan Under An Insurance Policy Or Other Plan Providing Health Care Coverage Shall Not Include Reimbursement For Gender Transition Procedures For A Person Under Twenty-one Years Of Age; To Amend Sections 27-7-17, 73-15-29 And 73-25-29, Mississippi Code Of 1972, To Conform To The Provisions Of This Act; To Amend Section 11-46-5, Mississippi Code Of 1972, To Exclude From Tort Immunity Violations Of This Act; To Amend Section 11-1-60, Mississippi Code Of 1972, To Exclude Violation Of This Act From Limits On Noneconomic Damages; And For Related Purposes.",
          "An Act To Create New Section 43-13-117.7, Mississippi Code Of 1972, To Prohibit The Division Of Medicaid From Reimbursing Any Entity For Part Or All Of The Costs Of Care And Services Rendered For Gender Reassignment Surgery Or Services; To Create New Section 83-9-401, Mississippi Code Of 1972, To Prohibit Health Coverage Plans That Are Funded Wholly Or In Part By State Funds Or State-employee Contributions From Reimbursing Or Authorizing Payment Of Part Or All Of The Costs Of Care And Services Rendered By Any Entity For Gender Reassignment Surgery Or Services; And For Related Purposes.",
          null
         ],
         "marker": {
          "opacity": 0.5,
          "size": 5
         },
         "mode": "markers+text",
         "name": "Restriction of Gender Transition Procedures",
         "text": [
          "",
          "",
          "",
          "",
          "",
          "",
          "",
          "",
          "",
          "",
          "Restriction of Gender Transition Procedures"
         ],
         "textfont": {
          "size": 12
         },
         "type": "scattergl",
         "x": [
          12.135509490966797,
          12.219829559326172,
          11.883563995361328,
          12.180427551269531,
          12.196961402893066,
          12.026288986206055,
          11.920656204223633,
          12.088465690612793,
          12.113462448120117,
          12.213713645935059,
          12.097887992858887
         ],
         "y": [
          10.63050651550293,
          10.675065994262695,
          10.299883842468262,
          10.587985038757324,
          10.681833267211914,
          10.5451078414917,
          10.430216789245605,
          10.640951156616211,
          10.682807922363281,
          10.651461601257324,
          10.582581520080566
         ]
        },
        {
         "hoverinfo": "text",
         "hovertext": [
          "Further, plans that include coverage for such interventions are not eligible for federal subsidies.",
          "Finally, the bill prohibits taxpayer subsidization of gender transition treatments.",
          "Additionally, such interventions may not be provided in a federal health care facility or by a federal employee.",
          "Finally, the bill prohibits institutions of higher education from offering instruction in gender affirming care.",
          "The bill also prohibits qualified health plans from including coverage for gender affirming care.",
          "Additionally, the bill prohibits the use of federal funds for gender affirming care or for health insurance that covers such care.",
          "Further, plans that include coverage for such care are not eligible for federal subsidies.",
          "Such care may not be provided in a federal health care facility or by a federal employee.",
          "Specifically, the bill prohibits the use of federal funds for gender reassignment medical interventions or for health coverage that includes such interventions.",
          "The bill also prohibits qualified health plans from including coverage for gender reassignment medical interventions.",
          null
         ],
         "marker": {
          "opacity": 0.5,
          "size": 5
         },
         "mode": "markers+text",
         "name": "Federal Prohibition of Gender Affirming Care",
         "text": [
          "",
          "",
          "",
          "",
          "",
          "",
          "",
          "",
          "",
          "",
          "Federal Prohibition of Gender Affirming Care"
         ],
         "textfont": {
          "size": 12
         },
         "type": "scattergl",
         "x": [
          7.995368003845215,
          7.737151622772217,
          7.967871189117432,
          7.744306564331055,
          7.785236835479736,
          7.7445454597473145,
          7.974085807800293,
          7.905627727508545,
          7.685767650604248,
          7.754167079925537,
          7.829412937164307
         ],
         "y": [
          10.8528470993042,
          10.619329452514648,
          10.830347061157227,
          10.655906677246094,
          10.65329647064209,
          10.609416007995605,
          10.827177047729492,
          10.778068542480469,
          10.735634803771973,
          10.643731117248535,
          10.720575332641602
         ]
        },
        {
         "hoverinfo": "text",
         "hovertext": [
          "Establishes the \"\"Missouri Save Adolescents from Experimentation (SAFE) Act\"\" and modifies provisions relating to public funding of certain gender transition procedures",
          "Establishes the \"\"Missouri Child and Adolescent Protection Act\"\"",
          "To Create The Arkansas Save Adolescents From Experimentation (safe) Act.",
          "To enact sections 3109.054, 3129.01, 3129.02, 3129.03, 3129.04, 3129.05, 3129.06, and 3129.07 of the Revised Code regarding gender transition services for minors and to name this act the Ohio Saving Adolescents from Experimentation (SAFE) Act.",
          "Oklahoma Save Adolescents from Experimentation (SAFE) Act; effective date.",
          "AN ACT to create and enact chapter 12.1-36.1 of the North Dakota Century Code, relating to the prohibition of certain practices against a minor; to provide a penalty; and to declare an emergency.",
          "Creates the Save Adolescents from Experimentation (SAFE) Act, which prohibits gender transition procedures, defined in the bill, for individuals younger than 18 years of age and prohibits the use of public funds for gender transition procedures for individuals younger than 18 years of age.",
          "To enact sections 3129.01, 3129.02, 3129.03, 3129.04, 3129.05, 3129.06, 3129.07, and 3129.08 of the Revised Code to prohibit certain procedures to alter a minor child's sex and to designate this act as the Save Adolescents from Experimentation (SAFE) Act.",
          "Establishment of the Save Adolescents from Experimentation (SAFE) Act; health benefit plans; coverage for gender transition procedures.",
          "Establishes the \"\"Missouri Save Adolescents from Experimentation (SAFE) Act\"\"",
          null
         ],
         "marker": {
          "opacity": 0.5,
          "size": 5
         },
         "mode": "markers+text",
         "name": "Safe Adolescents Act",
         "text": [
          "",
          "",
          "",
          "",
          "",
          "",
          "",
          "",
          "",
          "",
          "Safe Adolescents Act"
         ],
         "textfont": {
          "size": 12
         },
         "type": "scattergl",
         "x": [
          11.540092468261719,
          11.349273681640625,
          11.45836353302002,
          11.481171607971191,
          11.545597076416016,
          11.252870559692383,
          11.504749298095703,
          11.507560729980469,
          11.574792861938477,
          11.533477783203125,
          11.474794387817383
         ],
         "y": [
          9.536961555480957,
          9.266222953796387,
          9.442456245422363,
          9.758329391479492,
          9.50789737701416,
          9.794933319091797,
          9.932578086853027,
          9.745003700256348,
          9.824382781982422,
          9.49831485748291,
          9.630707740783691
         ]
        },
        {
         "hoverinfo": "text",
         "hovertext": [
          "Prohibits public funds, Medicaid, or a health carrier from providing reimbursement or coverage for gender transition procedures to a minor.",
          "Places restrictions on the provision of gender affirming care.",
          "Public programs; prohibiting public funding for provider of gender transition procedures; allowing reapplication under certain conditions.",
          "It excludes, however, interventions in cases where an individual has ambiguous external biological sex characteristics or where a physician has determined that an individual does not have normal sex chromosome structure, sex steroid hormone production, or sex steroid hormone action.",
          "Prohibits discrimination against health care professionals who refuse to assist in medical procedures or treatments relating to sex reassignment or gender identity transitioning",
          "The bill's restrictions regarding the use of federal funds do not apply to treatment of individuals with medically verifiable disorders of sex development, such as individuals born with atypical development of chromosomal, gonadal, or anatomical sex.",
          "The restrictions under this bill do not apply to the provision of care under certain circumstances such as when an individual does not have normal sex chromosome structure, sex steroid hormone production, or sex steroid hormone action.",
          "They exclude, however, interventions to treat (1) individuals who either have ambiguous external biological sex characteristics or lack a normal sex chromosome structure, sex steroid hormone production, or sex steroid hormone action; (2) infections, injuries, diseases, or disorders caused by a gender-transition procedure; or (3) a physical disorder, injury, or illness that places an individual in imminent danger of death or impairment of a major bodily function.",
          "Public health and safety; health care professionals; prohibiting certain gender transition procedures; exceptions; administrative remedies; emergency.",
          null
         ],
         "marker": {
          "opacity": 0.5,
          "size": 5
         },
         "mode": "markers+text",
         "name": "Restrictions on Gender-Related Medical Care",
         "text": [
          "",
          "",
          "",
          "",
          "",
          "",
          "",
          "",
          "",
          "Restrictions on Gender-Related Medical Care"
         ],
         "textfont": {
          "size": 12
         },
         "type": "scattergl",
         "x": [
          8.850866317749023,
          8.71882152557373,
          9.01336669921875,
          8.672082901000977,
          9.190339088439941,
          8.447763442993164,
          8.565764427185059,
          8.688973426818848,
          9.12946891784668,
          8.808605194091797
         ],
         "y": [
          10.976707458496094,
          11.058013916015625,
          11.15981674194336,
          10.744138717651367,
          11.024694442749023,
          10.761597633361816,
          10.722589492797852,
          10.740896224975586,
          11.236396789550781,
          10.936094284057617
         ]
        },
        {
         "hoverinfo": "text",
         "hovertext": [
          "The bill establishes a civil action for any violation of the Act by a clinic, health care system, medical professional, or other responsible person with a two-year statute of limitations.",
          "The bill provides for enforcement by the Attorney General or a mental health care professional or counselor through an action for injunctive relief and allows a mental health care professional to recover reasonable attorney fees and reasonable costs incurred in obtaining an injunction.",
          "The bill establishes penalties for practitioners in violation of regulations.",
          "The bill creates whistleblower protection.",
          "The bill establishes enforcement procedures for violations of the Act.",
          "The bill prohibits discrimination against persons (i) providing information regarding violations of the Act to their employer or specified public entities or (ii) who make disclosures under the Act believed to be (a) any violation of law, rule, or regulation; (b) any violation of any standard of care or other ethical guidelines for the provision of health care service; or (c) gross mismanagement, a gross waste of funds, an abuse of authority, or a substantial and specific danger to public health or safety.",
          "The bill establishes enforcement procedures for violations of the SAFE Act.",
          "The bill waives sovereign immunity to suit and immunity from liability under this provision of the bill.",
          null
         ],
         "marker": {
          "opacity": 0.5,
          "size": 5
         },
         "mode": "markers+text",
         "name": "Enforcement of Health Care Act",
         "text": [
          "",
          "",
          "",
          "",
          "",
          "",
          "",
          "",
          "Enforcement of Health Care Act"
         ],
         "textfont": {
          "size": 12
         },
         "type": "scattergl",
         "x": [
          7.67671537399292,
          7.965131759643555,
          7.57205057144165,
          7.7024359703063965,
          7.610962867736816,
          7.695479869842529,
          7.647802829742432,
          7.815207481384277,
          7.710723400115967
         ],
         "y": [
          8.20162296295166,
          8.391592025756836,
          8.159857749938965,
          8.251485824584961,
          8.152039527893066,
          8.412014961242676,
          8.1698637008667,
          8.30843448638916,
          8.255863189697266
         ]
        },
        {
         "hoverinfo": "text",
         "hovertext": [
          "Amend The South Carolina Code Of Laws Article 1, Chapter 47, Title 40 Of The S.c. Code, Relating To General Provisions Concerning Physicians By Adding Section 40-47-205 So As To Prohibit Physicians From Performing Gender Reassignment Surgery On Minors, And To Prohibit Physicians From Prescribing Or Administering Certain Substances For The Purpose Of Attempting To Alter The Appearance Of Or Affirm The Minor's Perception Of His Gender If That Appearance Or Perception Is Inconsistent With The Minor's Biological Sex.",
          "Amend The South Carolina Code Of Laws By Enacting The \"millstone Act Of 2023\"; And By Adding Chapter 141 To Title 44 So As To Prohibit Health Care Professionals From Making Referrals For Or Providing Gender-transition Procedures Or Services To Anyone Under Twenty-six Years Of Age; To Prohibit The Use Of Public Funds For Such Procedures; And To Create A Criminal Penalty For Violations, Provide For Professional Discipline, Allow A Private Right Of Action, And Authorize The Attorney General To Enforce The Chapter.",
          "Amend The South Carolina Code Of Laws By Enacting The \"south Carolina Vulnerable Child Compassion And Protection Act\"; And By Adding Chapter 140 To Title 44 So As To Prohibit The Performance Of A Medical Procedure Or The Prescription Or Issuance Of Medication, Upon Or To A Minor, That Is Intended To Alter The Appearance Of The Minor's Gender Or Delay Puberty, With Exceptions; To Authorize Professional Disciplinary Action And The Right To Institute A Civil Action For Violations Of The Chapter; And For Other Purposes.",
          "Amend The Code Of Laws Of South Carolina, 1976, To Enact The \"south Carolina Vulnerable Child Compassion And Protection Act\" By Adding Chapter 139 To Title 44 So As To Prohibit The Performance Of A Medical Procedure Or The Prescription Or Issuance Of Medication, Upon Or To A Minor, That Is Intended To Alter The Appearance Of The Minor's Gender Or Delay Puberty, With Exceptions; To Create Criminal Penalties; And For Other Purposes.",
          "Amend The South Carolina Code Of Laws By Adding Section 40-47-300 So As To Provide Definitions; By Adding Section 40-47-310 So As To Provide That A Person Younger Than Twenty-one Years Of Age May Not Undergo Gender Transition Procedures; By Adding Section 40-47-320 So As To Provide That A Person Younger Than Twenty-one Years Of Age May Receive Appropriate Medical Services Otherwise Related To Gender Transition Procedures Under Limited Circumstances; By Adding Section 40-47-330 So As To Provide Prerequisites For A Person Older Than Twenty-one Years Of Age To Undergo Gender Transition Procedures; By Adding Section 40-47-340 So As To Provide That No Public Funds May Be Used To Pay For Gender Transition Procedures; And By Adding Section 59-32-35 So As To Provide That Gender Identity Disorders May Be Taught As Part Of A Comprehensive Health Education Program, To Provide That Students With Gender Identity Disorders Must Be Encouraged To Seek Mental Health Treatment For The Disorder And Must Not Be Encouraged To Seek Gender Transition Procedures, And To Provide That School Personnel Must Notify Parents When They Learn That A Student Suffers From A Gender Identity Disorder.",
          "Amend The South Carolina Code Of Laws By Adding Section 40-47-300 So As To Define Gender, Sex, And Other Terms; By Adding Section 40-47-310 So As To Prohibit The Provision Of Gender Transition Procedures To A Person Under Eighteen Years Of Age; By Adding Section 40-47-320 So As To Provide Exceptions; By Adding Section 40-47-330 So As To Prohibit The Use Of Public Funds For Gender Transition Procedures; By Adding Section 40-47-340 So As To Provide Penalties; And By Adding Section 59-32-36 So As To Prohibit School Staff And Officials From Withholding Knowledge Of A Minor's Perception Of Their Gender From The Minor's Parents.",
          "Repeals provisions requiring the department to develop the children's social, emotional, and behavioral health plan.",
          "Amend The South Carolina Code Of Laws By Adding Section 40-47-205, Relating To General Provisions Concerning Physicians, So As To Prohibit Physicians From Performing Gender Reassignment Surgery On Minors, And To Prohibit Physicians From Prescribing Or Administering Certain Substances For The Purpose Of Attempting To Alter The Appearance Of Or Affirm The Minor's Perception Of His Gender If That Appearance Or Perception Is Inconsistent With The Minor's Biological Sex.",
          null
         ],
         "marker": {
          "opacity": 0.5,
          "size": 5
         },
         "mode": "markers+text",
         "name": "Prohibiting Gender Reassignment Procedures",
         "text": [
          "",
          "",
          "",
          "",
          "",
          "",
          "",
          "",
          "Prohibiting Gender Reassignment Procedures"
         ],
         "textfont": {
          "size": 12
         },
         "type": "scattergl",
         "x": [
          12.295967102050781,
          12.320740699768066,
          12.199088096618652,
          12.236382484436035,
          12.291772842407227,
          12.310059547424316,
          12.155786514282227,
          12.277633666992188,
          12.260929107666016
         ],
         "y": [
          11.253927230834961,
          11.235252380371094,
          11.2808198928833,
          11.3070650100708,
          11.20806884765625,
          11.234996795654297,
          11.313684463500977,
          11.300531387329102,
          11.266793251037598
         ]
        },
        {
         "hoverinfo": "text",
         "hovertext": [
          "Specifies certain medical exceptions.",
          "Medical Practice Amendments",
          "Relating to prohibited practices by physicians.",
          "Create new sections of KRS Chapter 344 to define terms; prohibit discrimination against medical care providers who decline to perform procedures that violate their conscience; grant providers the right not to participate in or pay for services that violate their conscience; exempt providers from liability for exercising these rights; establish a civil cause of action for persons injured by violations of these provisions.",
          "Relating to protection of individuals from participation in a health care service for reasons of conscience; providing a civil remedy; authorizing disciplinary action.",
          "Implement medical ethics and diversity act",
          "Provides for certain medical exceptions.",
          "Create new sections of KRS Chapter 344 to define terms; prohibit discrimination against medical care providers who decline to perform procedures that violate their conscience; grant providers the right not to participate in or pay for services that violate their conscience; exempt providers from liability for exercising these rights; establish a civil cause of action for persons injured by violations of these provisions; EMERGENCY.",
          null
         ],
         "marker": {
          "opacity": 0.5,
          "size": 5
         },
         "mode": "markers+text",
         "name": "Medical Provider Conscience Rights",
         "text": [
          "",
          "",
          "",
          "",
          "",
          "",
          "",
          "",
          "Medical Provider Conscience Rights"
         ],
         "textfont": {
          "size": 12
         },
         "type": "scattergl",
         "x": [
          7.874374866485596,
          7.788111686706543,
          7.870094299316406,
          7.883697032928467,
          8.067792892456055,
          7.755052089691162,
          7.817722797393799,
          7.853787422180176,
          7.863829612731934
         ],
         "y": [
          8.959420204162598,
          8.96558666229248,
          8.83858585357666,
          8.907421112060547,
          8.348542213439941,
          8.94018840789795,
          9.102970123291016,
          8.959670066833496,
          8.877798080444336
         ]
        },
        {
         "hoverinfo": "text",
         "hovertext": [
          "Relating to the protection of children, including the definition of child abuse and the prosecution of the criminal offense of abandoning or endangering a child.",
          "Relating to the definition of child abuse.",
          "Relating to the definition of child abuse and the prosecution of the criminal offense of abandoning or endangering a child.",
          "Child; vulnerable adult; abuse",
          "Relative to the definition of child abuse.",
          "Relating to the definition of abuse of a child.",
          "Amend KRS 600.020 to add exclusions relating to a parent's or guardian's actions from the definition of \"\"abused or neglected child.\"\"",
          null
         ],
         "marker": {
          "opacity": 0.5,
          "size": 5
         },
         "mode": "markers+text",
         "name": "Child Abuse Definition and Prosecution",
         "text": [
          "",
          "",
          "",
          "",
          "",
          "",
          "",
          "Child Abuse Definition and Prosecution"
         ],
         "textfont": {
          "size": 12
         },
         "type": "scattergl",
         "x": [
          10.214900970458984,
          10.383130073547363,
          10.258150100708008,
          10.408283233642578,
          10.39441204071045,
          10.31416130065918,
          10.382539749145508,
          10.33651065826416
         ],
         "y": [
          7.823359966278076,
          7.762709617614746,
          7.838325500488281,
          7.740424633026123,
          7.758155822753906,
          7.787167072296143,
          7.978740215301514,
          7.812697410583496
         ]
        },
        {
         "hoverinfo": "text",
         "hovertext": [
          "A BILL to be entitled an Act to amend Article 1 of Chapter 7 of Title 31 of the Official Code of Georgia Annotated, relating to regulation of hospitals and related institutions, so as to prohibit certain surgical procedures for the treatment of gender dysphoria in minors from being performed in hospitals and other licensed healthcare facilities; to provide for exceptions; to provide for violations; to amend Article 1 of Chapter 34 of Title 43 of the Official Code of Georgia Annotated, relating to the Georgia Composite Medical Board, so as to prohibit certain surgical procedures for the treatment of gender dysphoria in minors; to provide for exceptions; to provide for violations; to provide for legislative findings; to provide for related matters; to repeal conflicting laws; and for other purposes.",
          "The bill establishes a duty for a government agent with knowledge that a minor has exhibited symptoms of gender dysphoria or gender nonconformity or otherwise demonstrates a desire to be treated in a manner incongruent with the minor's sex to immediately notify each of the minor's parents, guardians, or custodians in writing, with descriptions of relevant circumstances.",
          "A bill for an act relating to treatment or intervention involving a minor diagnosed with gender dysphoria, and providing for licensee discipline and civil penalties.",
          "A BILL to be entitled an Act to amend Chapter 1 of Title 43 of the O.C.G.A., relating to general provisions relative to professions and businesses, so as to prohibit health care providers from performing specified practices on minors relating to altering a person's appearance relating to gender; to prohibit health care providers from aiding or abetting such practices for minors; to amend Part 3 of Article 16 of Chapter 2 of Title 20 of the O.C.G.A., relating to student health, so as to prohibit school nurses and other employees and officials from engaging in certain conduct relating to a minor's perception of his or her gender; to provide for legislative findings; to provide for related matters; to provide for an effective date; to repeal conflicting laws; and for other purposes.",
          "A BILL to be entitled an Act to amend Title 31 of the Official Code of Georgia Annotated, relating to health, so as to prohibit certain licensed, certified, or registered professionals from engaging in certain acts upon minors; to provide for a short title; to provide for definitions; to provide for exceptions; to provide for a penalty and private cause of action; to explicitly waive sovereign immunity, qualified immunity, and official immunity for such a private cause of action; to provide for related matters; to provide for an effective date and applicability; to repeal conflicting laws; and for other purposes.",
          "A BILL to be entitled an Act to amend Chapter 1 of Title 43 of the O.C.G.A., relating to general provisions relative to professions and businesses, so as to prohibit health care providers from performing specified practices on minors relating to altering a person's appearance relating to gender; to provide for related matters; to provide for an effective date; to repeal conflicting laws; and for other purposes.",
          "A bill for an act relating to actions relative to treatment or intervention regarding the discordance between a minor's sex and gender identity, and providing civil penalties.",
          null
         ],
         "marker": {
          "opacity": 0.5,
          "size": 5
         },
         "mode": "markers+text",
         "name": "Gender Dysphoria Legislation",
         "text": [
          "",
          "",
          "",
          "",
          "",
          "",
          "",
          "Gender Dysphoria Legislation"
         ],
         "textfont": {
          "size": 12
         },
         "type": "scattergl",
         "x": [
          11.016502380371094,
          10.826650619506836,
          11.002449989318848,
          11.010085105895996,
          11.083863258361816,
          11.037458419799805,
          11.003974914550781,
          10.997283935546875
         ],
         "y": [
          10.195337295532227,
          10.005096435546875,
          10.374326705932617,
          10.073843002319336,
          10.108115196228027,
          10.201408386230469,
          10.37954330444336,
          10.191096305847168
         ]
        },
        {
         "hoverinfo": "text",
         "hovertext": [
          " Inexpedient to Legislate (H)",
          "Establishes civil enforcement actions.",
          "Creates a civil cause of action.",
          "Creates exceptions.",
          "Makes conforming amendments.",
          "Emergency.",
          "Makes conforming changes.",
          null
         ],
         "marker": {
          "opacity": 0.5,
          "size": 5
         },
         "mode": "markers+text",
         "name": "Civil Enforcement Actions",
         "text": [
          "",
          "",
          "",
          "",
          "",
          "",
          "",
          "Civil Enforcement Actions"
         ],
         "textfont": {
          "size": 12
         },
         "type": "scattergl",
         "x": [
          8.332263946533203,
          8.203778266906738,
          8.393653869628906,
          8.416632652282715,
          8.13035774230957,
          8.583561897277832,
          8.168438911437988,
          8.31838321685791
         ],
         "y": [
          7.430553436279297,
          7.493411064147949,
          7.254486560821533,
          7.215917110443115,
          7.062681674957275,
          7.2909464836120605,
          7.000483989715576,
          7.249783039093018
         ]
        },
        {
         "hoverinfo": "text",
         "hovertext": [
          "The purpose of this bill is to restrict public universities or university associated healthcare facilities from performing gender reassignment surgeries or gender affirming care upon minors.",
          "Creates the Youth Health Protection Act, which makes it unlawful for any individual to provide gender transition procedures for minors and prohibits the use of public funds for gender transition procedures.",
          "The purpose of this bill is to prevent undue pressure and influences on minors in public school and public institutions, limit gender reassignment surgeries and hormone replacement therapies to consenting adults in this state, and to make a new crime of registered sex offenders at public school functions and athletic events, regardless of whether they have a child participating.",
          "Specifically, the bill makes it a felony to perform any gender affirming care on a minor and it permits a minor on whom such care is performed to bring a civil action against each individual who provided the care.",
          "The bill allows parents, guardians, or custodians to withhold consent for any treatment, activity, or mental health care services that are designed and intended to form their child's conceptions of sex and gender or to treat gender dysphoria or gender nonconformity.",
          "It also makes any non-U.S. national (alien under federal law) who performs gender affirming care on a minor deportable and inadmissible to the United States.",
          "The purpose of this bill is to prohibit gender transition surgeries, treatments, and therapies to minors.",
          null
         ],
         "marker": {
          "opacity": 0.5,
          "size": 5
         },
         "mode": "markers+text",
         "name": "Restricting Gender Affirming Care",
         "text": [
          "",
          "",
          "",
          "",
          "",
          "",
          "",
          "Restricting Gender Affirming Care"
         ],
         "textfont": {
          "size": 12
         },
         "type": "scattergl",
         "x": [
          10.27610969543457,
          9.916351318359375,
          10.57513427734375,
          9.994636535644531,
          10.025779724121094,
          9.95551586151123,
          10.13406753540039,
          10.125370979309082
         ],
         "y": [
          10.002784729003906,
          10.028099060058594,
          9.886399269104004,
          9.85193157196045,
          9.886627197265625,
          9.968415260314941,
          10.033595085144043,
          9.95112133026123
         ]
        },
        {
         "hoverinfo": "text",
         "hovertext": [
          "Establishes a Class A felony for those who perform gender reassignment surgeries on minors.",
          "Prohibits the performance of gender reassignment surgeries on minors.",
          "Establishes a new criminal offense for performing gender reassignment medical interventions on minors.",
          "Adding sexual reassignment to the definition of child abuse.",
          "Making it a crime for a doctor to perform gender reassignment surgery or hormone replacement therapy on minors.",
          "Making it a crime for a physician to perform gender reassignment surgery or hormone replacement therapy on certain children.",
          null
         ],
         "marker": {
          "opacity": 0.5,
          "size": 5
         },
         "mode": "markers+text",
         "name": "Prohibition of Gender Reassignment Surgeries",
         "text": [
          "",
          "",
          "",
          "",
          "",
          "",
          "Prohibition of Gender Reassignment Surgeries"
         ],
         "textfont": {
          "size": 12
         },
         "type": "scattergl",
         "x": [
          9.693768501281738,
          9.735068321228027,
          9.617096900939941,
          9.741541862487793,
          9.672030448913574,
          9.725603103637695,
          9.697518348693848
         ],
         "y": [
          9.741504669189453,
          10.142948150634766,
          9.88757610321045,
          9.694146156311035,
          9.743542671203613,
          9.721837997436523,
          9.82192611694336
         ]
        },
        {
         "hoverinfo": "text",
         "hovertext": [
          "Minors; gender identity; reassignment; prohibitions",
          "Gender transition; prohibition",
          "Requests a study of gender-altering procedures for minors and the risks associated with such procedures",
          "Gender transition procedures for minors.",
          "Prohibiting Sex Transitioning Procedures on Minors",
          "Irreversible gender reassignment surgery; minors",
          null
         ],
         "marker": {
          "opacity": 0.5,
          "size": 5
         },
         "mode": "markers+text",
         "name": "Minors' Gender Transitioning Procedures",
         "text": [
          "",
          "",
          "",
          "",
          "",
          "",
          "Minors' Gender Transitioning Procedures"
         ],
         "textfont": {
          "size": 12
         },
         "type": "scattergl",
         "x": [
          10.014108657836914,
          9.798868179321289,
          9.854673385620117,
          9.846405982971191,
          9.668622970581055,
          9.897967338562012,
          9.846774101257324
         ],
         "y": [
          10.54760456085205,
          10.66247272491455,
          10.833436012268066,
          10.926584243774414,
          10.516680717468262,
          10.858885765075684,
          10.72427749633789
         ]
        },
        {
         "hoverinfo": "text",
         "hovertext": [
          "- Amends TCA Title 28; Title 29; Title 33; Title 34; Title 36; Title 37; Title 39; Title 40; Title 49; Title 56; Title 63; Title 68 and Title 71.",
          "- Amends TCA Title 4; Title 56; Title 68 and Title 71.",
          "- Amends TCA Title 8; Title 53; Title 56; Title 63; Title 68 and Title 71.",
          "- Amends TCA Title 8; Title 36; Title 37; Title 39; Title 49; Title 53; Title 56; Title 63; Title 68 and Title 71.",
          "Amends sec.",
          "Reconciles versions of IC 10-21-1-2 that were enacted by the 2019 general assembly.",
          null
         ],
         "marker": {
          "opacity": 0.5,
          "size": 5
         },
         "mode": "markers+text",
         "name": "Amendments to TCA Titles",
         "text": [
          "",
          "",
          "",
          "",
          "",
          "",
          "Amendments to TCA Titles"
         ],
         "textfont": {
          "size": 12
         },
         "type": "scattergl",
         "x": [
          6.768672943115234,
          6.848916053771973,
          6.823794364929199,
          6.767416477203369,
          6.81151008605957,
          6.691369533538818,
          6.785279750823975
         ],
         "y": [
          5.404219627380371,
          5.494874000549316,
          5.454023361206055,
          5.400294303894043,
          5.448750019073486,
          5.05713415145874,
          5.376548767089844
         ]
        },
        {
         "hoverinfo": "text",
         "hovertext": [
          "Create new sections of KRS Chapter 311 to define terms; state that the provision of gender transition services to a person under the age of 18 years by a health care provider or mental health care provider is unethical and unprofessional conduct; require an investigation of any report of provision of gender transition services to a person under the age of 18 years; require revocation of the provider's license if confirmed and termination of public funding for a public employee; require that providers be jointly and severally liable for all damages and costs sustained for providing gender transition services or aiding and assisting a person under the age of 18 years to consider or to obtain gender transition services; provide defense to providers refusing to provide services; make failure to report provision of gender transition services a crime; permit an action on a violation to be taken by the parent or guardian of a person before the person attains the age of 18 years and by the person within 30 years of the person attaining the age of 18 years, with exceptions under which the time may be longer; require conditions for actions and damages; prohibit use of public funds for gender transition services; prohibit a provider employed by a public agency to provide include gender transition procedures; permit the Attorney General to bring action to enforce provisions; permit intervention as a matter of right if these provisions are challenged; prohibit a public provider from intervening in a legal proceeding in defense of the provision of gender transition services; create a new section of KRS Chapter 205 to prohibit Medicaid coverage of gender transition procedures for a person under age 18 years; create a new section of Subtitle12 of KRS Chapter 304 to establish liability provisions if an insurer elects to cover gender transition services; amend KRS 18A.225 to prohibit a fully insured benefit plan or self-insured plan for public employees from covering gender transition services for a person under the age of 18 years; amend KRS 454.210 to add to court permission to exercise personal jurisdiction over a person who acts directly or by an agent, as to a claim arising from the person's engaging in the provision of gender transition services to a person under the age of 18 years; create a new section of KRS Chapter 158 to prohibit a public school counselor, school-based mental health services provider, or other public employee from aiding or assisting in the provision of gender transition services for a person under the age of 18 years; establish liability provisions; require school notification of parents of child's expression of sex or gender inconsistency with exceptions; amend KRS 141.039 to require that corporate income relating to the provision of gender transition services to a person under age 18 years be added to net income; amend KRS 213.121 to prohibit a registered certificate or report from being amended if the purpose is to assist with a social or physical gender transition; amend KRS 401.020 to prohibit a court to order a name change if the purpose is to assist with a social or physical gender transition; create a new section of KRS Chapter 600 to prohibit the Department of Juvenile Justice from classifying a detainee by a sex that is inconsistent with defined sex; allow the Act to be cited as the Do No Harm Act; EFFECTIVE January 1, 2024.",
          "Create new sections of KRS Chapter 311 to prohibit the provision of or referral for gender transition procedures to any child under the age of 18 years; define a violation as unprofessional conduct and acting recklessly for purposes of tort claims; permit an action on a violation to be taken by the parent or guardian of the child before the child attains the age of 18 years and by the child within 30 years of the child attaining the age of 18 years, with exceptions under which the time may be longer; require conditions for actions and damages; prohibit public funds to be used for the provision of or referral for gender transition procedures to a child under the age of 18 years; prohibit health care services provided under state, local, or county government to include gender transition procedures to a child under the age of 18 years; prohibit tax exemption for gender transition procedures; permit the Attorney General to bring action to enforce provisions; permit members of the General Assembly to intervene as a matter of right if these provisions are challenged; create a new section of KRS Chapter 205 to prohibit Medicaid coverage of gender transition procedures for a child under the age of 18 years; create a new section of KRS Chapter 304.17A to prohibit health benefit plan coverage for gender transition procedures for a child under the age of 18 years and any requirement for coverage of gender transition procedures; EFFECTIVE January 1, 2023.",
          "The bill provides that a health benefit plan providing health care coverage in the Commonwealth is prohibited from providing coverage for gender transition procedures for individuals younger than 18 years of age and is not required to provide coverage for gender transition procedures for individuals 18 years of age or older.",
          "Create new sections of KRS Chapter 311 to prohibit the provision of or referral for gender transition procedures to any child under the age of 18 years; define a violation as unprofessional conduct and acting recklessly for purposes of tort claims; permit an action on a violation to be taken by the parent or guardian of the child before the child attains the age of 18 years and by the child within 30 years of the child attaining the age of 18 years, with exceptions under which the time may be longer; require conditions for actions and damages; prohibit public funds to be used for the provision of or referral for gender transition procedures to a child under the age of 18 years; prohibit health care services provided under state, local, or county government to include gender transition procedures to a child under the age of 18 years; prohibit tax exemption for gender transition procedures; permit the Attorney General to bring action to enforce provisions; permit members of the General Assembly to intervene as a matter of right if these provisions are challenged; create a new section of KRS Chapter 205 to prohibit Medicaid coverage of gender transition procedures for a child under the age of 18 years; create a new section of KRS Chapter 304.17A to prohibit health benefit plan coverage for gender transition procedures for a child under the age of 18 years and any requirement for coverage of gender transition procedures; amend KRS 141.019 and 141.039 to prohibit tax exemption for gender transition procedures; EFFECTIVE January 1, 2023.",
          "Creates the Children Deserve Help Not Harm Act, which prohibits gender transition procedures, defined in the bill, for individuals younger than 18 years of age and prohibits the use of public funds for gender transition procedures for individuals younger than 18 years of age.",
          "Create new sections of KRS Chapter 311 to prohibit the provision of or referral for gender transition procedures to any child under the age of 18 years; define a violation as unprofessional conduct and acting recklessly for purposes of tort claims; permit an action on a violation to be taken by the parent or guardian of the child before the child attains the age of 18 years and by the child within 30 years of the child attaining the age of 18 years, with exceptions under which the time may be longer; require conditions for actions and damages; prohibit public funds to be used for the provision of or referral for gender transition procedures to a child under the age of 18 years; prohibit health care services provided under state, local, or county government to include gender transition procedures to a child under the age of 18 years; prohibit tax exemption for gender transition procedures; prohibit a person or entity from aiding or abetting the performance or inducement of gender transition procedures to a child under the age of 18 years, but exempt speech protected by the First Amendment to the Constitution of the United States and exempt a parent of such child; permit the Attorney General to bring action to enforce provisions; permit members of the General Assembly to intervene as a matter of right if these provisions are challenged; create a new section of KRS Chapter 205 to prohibit Medicaid coverage of gender transition procedures for a child under the age of 18 years; create a new section of Subtitle 17A of KRS Chapter 304 to prohibit health benefit plan coverage, including federal government health plans, for gender transition procedures for a child under the age of 18 years and any requirement for coverage of gender transition procedures; amend KRS 141.019 and 141.039 to prohibit tax exemption for gender transition procedures; establish a short title of Kentucky's Children Deserve Help Not Harm Act; EFFECTIVE January 1, 2024.",
          null
         ],
         "marker": {
          "opacity": 0.5,
          "size": 5
         },
         "mode": "markers+text",
         "name": "Prohibition of Gender Transition Under 18",
         "text": [
          "",
          "",
          "",
          "",
          "",
          "",
          "Prohibition of Gender Transition Under 18"
         ],
         "textfont": {
          "size": 12
         },
         "type": "scattergl",
         "x": [
          10.644421577453613,
          10.511704444885254,
          10.451882362365723,
          10.628674507141113,
          10.114981651306152,
          10.59650993347168,
          10.491362571716309
         ],
         "y": [
          10.752568244934082,
          10.622631072998047,
          10.587907791137695,
          10.654756546020508,
          10.237318992614746,
          10.58967399597168,
          10.574142456054688
         ]
        },
        {
         "hoverinfo": "text",
         "hovertext": [
          "Modifies provisions relating to federal funding for, and health insurance coverage of, gender reassignment medical interventions, which include surgical remedies and hormone therapy arising from a conflict between an individual's gender identity and the sex the individual has or was identified as having at birth.",
          "The bill defines these interventions as certain surgeries or the use of hormones to change the body of an individual to correspond to a sex that is discordant with the individual's biological sex.",
          "AN ACT relating to public health and safety; prohibiting physicians from performing procedures for children related to gender transitioning and gender reassignment; providing an exception; providing that gender transitioning and reassignment procedures are grounds for suspension or revocation of a physician's or health care provider's license; prohibiting insurance coverage for children for gender transitioning and reassignment procedures; providing definitions; specifying applicability; requiring rulemaking; and providing for effective dates.",
          "Modifies provisions relating to gender reassignment treatment for children",
          "Relating to psychological evaluations before the provision of gender reassignment treatments and procedures.",
          "An Act To Create The Transgender 21 Act; To Prohibit The State, Its Agents, And Political Subdivision From Infringing On A Parent's Right To Withhold Consent For Any Treatment, Activity Or Mental Health Care Services That Are Designed And Intended To Form Their Child's Conceptions Of Sex And Gender Or To Treat Gender Dysphoria Or Gender Nonconformity; To Prohibit Certain Medical Procedures From Being Performed Upon A Minor; To Provide A Penalty For Any Medical Profession Who Performs Certain Medical Procedures Upon A Minor; To Provide A Good-faith Exception For A Minor Born With A Medically Verifiable Genetic Disorder Of Sexual Development; To Prohibit Any State Agency, Political Subdivision Or Licensing Organization From Forbidding, Penalizing Or Taking Adverse Action Against An Individual Who Gives Or Receives Counsel, Advice, Guidance Or Other Speech Or Communication Consistent With Conscience Or Religious Belief; To Provide That No Individual Shall Be Discriminated Against For Providing Information About A Violation Of This Act To Certain Authorities; To Provide A Private Cause Of Action For Violations Of This Act; To Preempt Political Subdivisions From Promulgating Rules Or Regulations That Limits The Professional Conduct And Judgment Of A Mental Health Care Professional Or Counselor; To Provide That The Provisions Of This Act Are Severable; And For Related Purposes.",
          null
         ],
         "marker": {
          "opacity": 0.5,
          "size": 5
         },
         "mode": "markers+text",
         "name": "Gender Reassignment Legislation",
         "text": [
          "",
          "",
          "",
          "",
          "",
          "",
          "Gender Reassignment Legislation"
         ],
         "textfont": {
          "size": 12
         },
         "type": "scattergl",
         "x": [
          10.150337219238281,
          10.07809066772461,
          10.528697967529297,
          10.203927040100098,
          10.397591590881348,
          10.96961784362793,
          10.388043403625488
         ],
         "y": [
          11.445738792419434,
          11.213020324707031,
          11.31270980834961,
          11.10518741607666,
          11.643771171569824,
          10.699661254882812,
          11.236681938171387
         ]
        },
        {
         "hoverinfo": "text",
         "hovertext": [
          "To protect children from medical malpractice in the form of gender transition procedures.",
          "A bill for an act relating to gender-transition procedures, and including effective date provisions.",
          "Concerning Medical Malpractice And Gender Transition In Minors; And To Create The Protecting Minors From Medical Malpractice Act Of 2023.",
          "A bill to protect children from medical malpractice in the form of gender transition procedures.",
          "Children Deserve Help Not Harm Act established; health benefit plans; coverage for gender transition procedures.",
          "A bill to establish a Federal tort against pediatric gender clinics and other entities pushing gender-transition procedures that cause bodily injury to children or harm the mental health of children.",
          null
         ],
         "marker": {
          "opacity": 0.5,
          "size": 5
         },
         "mode": "markers+text",
         "name": "Child Protection from Gender Transition Procedures",
         "text": [
          "",
          "",
          "",
          "",
          "",
          "",
          "Child Protection from Gender Transition Procedures"
         ],
         "textfont": {
          "size": 12
         },
         "type": "scattergl",
         "x": [
          10.445115089416504,
          10.797601699829102,
          10.530058860778809,
          10.577608108520508,
          10.624434471130371,
          10.682450294494629,
          10.609545707702637
         ],
         "y": [
          10.921487808227539,
          10.992280960083008,
          10.643738746643066,
          10.921430587768555,
          10.535296440124512,
          10.925172805786133,
          10.823234558105469
         ]
        },
        {
         "hoverinfo": "text",
         "hovertext": [
          "Provide for a youth health protection act",
          "Youth Health Protection Act established; civil penalty.",
          "Youth Health Protection Act",
          "The bill safeguards the mental and physical health of minors.",
          "As introduced, enacts the “Youth Health Protection Act.” - Amends TCA Title 8; Title 9; Title 14; Title 33; Title 63 and Title 68.",
          null
         ],
         "marker": {
          "opacity": 0.5,
          "size": 5
         },
         "mode": "markers+text",
         "name": "Youth Health Protection Act",
         "text": [
          "",
          "",
          "",
          "",
          "",
          "Youth Health Protection Act"
         ],
         "textfont": {
          "size": 12
         },
         "type": "scattergl",
         "x": [
          9.482881546020508,
          9.07578182220459,
          9.470046043395996,
          9.213216781616211,
          9.548995971679688,
          9.358184814453125
         ],
         "y": [
          8.63589859008789,
          8.52824592590332,
          8.601539611816406,
          8.599676132202148,
          8.590490341186523,
          8.591169357299805
         ]
        },
        {
         "hoverinfo": "text",
         "hovertext": [
          "Among other requirements, school employees may not withhold information from parents about a minor student's gender transition or gender identity.",
          "Provides that a child is not a child in need of services due to the child's parent, guardian, or custodian: (1) referring to and raising the child consistent with the child's biological sex; or (2) declining to consent to the child receiving: (A) specified medication; (B) a medical procedure the purpose of which is to alter the apparent gender or sex of the child or affirm the child's perception of the child's gender or sex in a manner inconsistent with the child's biological sex; or (C) counseling or other mental health services the purpose of which is to affirm the child's perception of the child's gender or sex if the child's perception is inconsistent with the child's biological sex.",
          "Sage's Law; minor students experiencing gender incongruence; parental notification of certain expressions and requests and parental permission for certain plans required; parental care.",
          "Requires each public elementary or secondary school principal or his designee to (i) as soon as practicable, inform at least one parent of a minor student enrolled in such school if such minor (a) expresses to any individual who is employed in such school that such minor is experiencing gender incongruence, as defined in the bill, or (b) requests that any such employee participate in social affirmation of such minor's gender incongruence or the transition of such minor to a sex or gender different from the minor's biological sex while at school and (ii) request and receive permission from at least one parent of a minor student enrolled at such school prior to the implementation at such school of any plan concerning any gender incongruence experienced by such minor, including any counseling of such minor at school.",
          "Requires a school to notify in writing at least one parent of a student, if the student is an unemancipated minor, of a request made by the student to change the student's name or pronoun, title, or word to identify the student.",
          null
         ],
         "marker": {
          "opacity": 0.5,
          "size": 5
         },
         "mode": "markers+text",
         "name": "Gender Incongruence in Schools",
         "text": [
          "",
          "",
          "",
          "",
          "",
          "Gender Incongruence in Schools"
         ],
         "textfont": {
          "size": 12
         },
         "type": "scattergl",
         "x": [
          10.634044647216797,
          10.123656272888184,
          10.662507057189941,
          10.631917953491211,
          10.494792938232422,
          10.509383201599121
         ],
         "y": [
          6.813058376312256,
          8.210375785827637,
          6.962366580963135,
          6.824202537536621,
          6.596554279327393,
          7.081311225891113
         ]
        },
        {
         "hoverinfo": "text",
         "hovertext": [
          "Public health, minors, biological male or female, sexual state, practices to alter or affirm minor's sexual identity or perception such as prescribing puberty blocking medication or surgeries, prohibited, exceptions, nurses and school personnel not to withhold information from parents, violations a Class C felony",
          "Prohibits specified health care professionals from: (1) performing certain medical procedures on a minor; or (2) subjecting a minor to certain activities; that purposely attempt to change, reinforce, or affirm a minor's perception of the minor's own sexual attraction or sexual behavior, or attempt to change, reinforce, or affirm a minor's gender identity when the identity is inconsistent with the minor's biological sex.",
          "Unlawful exposure; minors; sentencing; reporting",
          "Prohibits specified health care professionals from: (1) performing, or causing to be performed, certain medical procedures on a minor; or (2) subjecting a minor to certain activities that purposely attempt to change, reinforce, or affirm a minor's perception of the minor's own sexual attraction or sexual behavior, or attempt to change, reinforce, or affirm a minor's gender identity when the identity is inconsistent with the minor's biological sex.",
          "Prohibits specified health care professionals from: (1) performing certain medical procedures on a minor; or (2) prescribing, administering, or furnishing certain drugs to a minor; that purposely attempt to change, reinforce, or affirm a minor's perception of the minor's own sexual attraction or sexual behavior, or attempt to change, reinforce, or affirm a minor's gender identity when the identity is inconsistent with the minor's biological sex.",
          null
         ],
         "marker": {
          "opacity": 0.5,
          "size": 5
         },
         "mode": "markers+text",
         "name": "Sexual Identity Affirmation Prohibition",
         "text": [
          "",
          "",
          "",
          "",
          "",
          "Sexual Identity Affirmation Prohibition"
         ],
         "textfont": {
          "size": 12
         },
         "type": "scattergl",
         "x": [
          8.918532371520996,
          8.57501220703125,
          8.949393272399902,
          8.500479698181152,
          8.625089645385742,
          8.713702201843262
         ],
         "y": [
          9.258468627929688,
          9.192667007446289,
          9.119409561157227,
          9.118415832519531,
          9.19353199005127,
          9.176498413085938
         ]
        },
        {
         "hoverinfo": "text",
         "hovertext": [
          "The bill prohibits political subdivisions of the Commonwealth from enacting, adopting, maintaining, or enforcing any measure that interferes with the professional conduct and judgment of a mental health care professional or counselor undertaken within the course of treatment and communication with clients, patients, other persons, or the public.",
          "The purpose of this bill is to prohibit certain medical practices.",
          "The bill prohibits political subdivisions from enacting conflicting policies.",
          "The purpose of this bill is to prohibit Medicaid and CHIP payment for certain prohibited medical practices.",
          null
         ],
         "marker": {
          "opacity": 0.5,
          "size": 5
         },
         "mode": "markers+text",
         "name": "Prohibiting Medical Practices for Medicaid",
         "text": [
          "",
          "",
          "",
          "",
          "Prohibiting Medical Practices for Medicaid"
         ],
         "textfont": {
          "size": 12
         },
         "type": "scattergl",
         "x": [
          7.880939483642578,
          7.800870895385742,
          7.780238151550293,
          7.796414375305176,
          7.814615249633789
         ],
         "y": [
          9.66089153289795,
          9.845030784606934,
          10.19140911102295,
          10.00436019897461,
          9.925422668457031
         ]
        }
       ],
       "layout": {
        "annotations": [
         {
          "showarrow": false,
          "text": "D1",
          "x": 4.806792736053467,
          "y": 8.774263381958008,
          "yshift": 10
         },
         {
          "showarrow": false,
          "text": "D2",
          "x": 9.487822270393371,
          "xshift": 10,
          "y": 13.850927543640136
         }
        ],
        "height": 750,
        "shapes": [
         {
          "line": {
           "color": "#CFD8DC",
           "width": 2
          },
          "type": "line",
          "x0": 9.487822270393371,
          "x1": 9.487822270393371,
          "y0": 3.6975992202758787,
          "y1": 13.850927543640136
         },
         {
          "line": {
           "color": "#9E9E9E",
           "width": 2
          },
          "type": "line",
          "x0": 4.806792736053467,
          "x1": 14.168851804733276,
          "y0": 8.774263381958008,
          "y1": 8.774263381958008
         }
        ],
        "template": {
         "data": {
          "bar": [
           {
            "error_x": {
             "color": "rgb(36,36,36)"
            },
            "error_y": {
             "color": "rgb(36,36,36)"
            },
            "marker": {
             "line": {
              "color": "white",
              "width": 0.5
             },
             "pattern": {
              "fillmode": "overlay",
              "size": 10,
              "solidity": 0.2
             }
            },
            "type": "bar"
           }
          ],
          "barpolar": [
           {
            "marker": {
             "line": {
              "color": "white",
              "width": 0.5
             },
             "pattern": {
              "fillmode": "overlay",
              "size": 10,
              "solidity": 0.2
             }
            },
            "type": "barpolar"
           }
          ],
          "carpet": [
           {
            "aaxis": {
             "endlinecolor": "rgb(36,36,36)",
             "gridcolor": "white",
             "linecolor": "white",
             "minorgridcolor": "white",
             "startlinecolor": "rgb(36,36,36)"
            },
            "baxis": {
             "endlinecolor": "rgb(36,36,36)",
             "gridcolor": "white",
             "linecolor": "white",
             "minorgridcolor": "white",
             "startlinecolor": "rgb(36,36,36)"
            },
            "type": "carpet"
           }
          ],
          "choropleth": [
           {
            "colorbar": {
             "outlinewidth": 1,
             "tickcolor": "rgb(36,36,36)",
             "ticks": "outside"
            },
            "type": "choropleth"
           }
          ],
          "contour": [
           {
            "colorbar": {
             "outlinewidth": 1,
             "tickcolor": "rgb(36,36,36)",
             "ticks": "outside"
            },
            "colorscale": [
             [
              0,
              "#440154"
             ],
             [
              0.1111111111111111,
              "#482878"
             ],
             [
              0.2222222222222222,
              "#3e4989"
             ],
             [
              0.3333333333333333,
              "#31688e"
             ],
             [
              0.4444444444444444,
              "#26828e"
             ],
             [
              0.5555555555555556,
              "#1f9e89"
             ],
             [
              0.6666666666666666,
              "#35b779"
             ],
             [
              0.7777777777777778,
              "#6ece58"
             ],
             [
              0.8888888888888888,
              "#b5de2b"
             ],
             [
              1,
              "#fde725"
             ]
            ],
            "type": "contour"
           }
          ],
          "contourcarpet": [
           {
            "colorbar": {
             "outlinewidth": 1,
             "tickcolor": "rgb(36,36,36)",
             "ticks": "outside"
            },
            "type": "contourcarpet"
           }
          ],
          "heatmap": [
           {
            "colorbar": {
             "outlinewidth": 1,
             "tickcolor": "rgb(36,36,36)",
             "ticks": "outside"
            },
            "colorscale": [
             [
              0,
              "#440154"
             ],
             [
              0.1111111111111111,
              "#482878"
             ],
             [
              0.2222222222222222,
              "#3e4989"
             ],
             [
              0.3333333333333333,
              "#31688e"
             ],
             [
              0.4444444444444444,
              "#26828e"
             ],
             [
              0.5555555555555556,
              "#1f9e89"
             ],
             [
              0.6666666666666666,
              "#35b779"
             ],
             [
              0.7777777777777778,
              "#6ece58"
             ],
             [
              0.8888888888888888,
              "#b5de2b"
             ],
             [
              1,
              "#fde725"
             ]
            ],
            "type": "heatmap"
           }
          ],
          "heatmapgl": [
           {
            "colorbar": {
             "outlinewidth": 1,
             "tickcolor": "rgb(36,36,36)",
             "ticks": "outside"
            },
            "colorscale": [
             [
              0,
              "#440154"
             ],
             [
              0.1111111111111111,
              "#482878"
             ],
             [
              0.2222222222222222,
              "#3e4989"
             ],
             [
              0.3333333333333333,
              "#31688e"
             ],
             [
              0.4444444444444444,
              "#26828e"
             ],
             [
              0.5555555555555556,
              "#1f9e89"
             ],
             [
              0.6666666666666666,
              "#35b779"
             ],
             [
              0.7777777777777778,
              "#6ece58"
             ],
             [
              0.8888888888888888,
              "#b5de2b"
             ],
             [
              1,
              "#fde725"
             ]
            ],
            "type": "heatmapgl"
           }
          ],
          "histogram": [
           {
            "marker": {
             "line": {
              "color": "white",
              "width": 0.6
             }
            },
            "type": "histogram"
           }
          ],
          "histogram2d": [
           {
            "colorbar": {
             "outlinewidth": 1,
             "tickcolor": "rgb(36,36,36)",
             "ticks": "outside"
            },
            "colorscale": [
             [
              0,
              "#440154"
             ],
             [
              0.1111111111111111,
              "#482878"
             ],
             [
              0.2222222222222222,
              "#3e4989"
             ],
             [
              0.3333333333333333,
              "#31688e"
             ],
             [
              0.4444444444444444,
              "#26828e"
             ],
             [
              0.5555555555555556,
              "#1f9e89"
             ],
             [
              0.6666666666666666,
              "#35b779"
             ],
             [
              0.7777777777777778,
              "#6ece58"
             ],
             [
              0.8888888888888888,
              "#b5de2b"
             ],
             [
              1,
              "#fde725"
             ]
            ],
            "type": "histogram2d"
           }
          ],
          "histogram2dcontour": [
           {
            "colorbar": {
             "outlinewidth": 1,
             "tickcolor": "rgb(36,36,36)",
             "ticks": "outside"
            },
            "colorscale": [
             [
              0,
              "#440154"
             ],
             [
              0.1111111111111111,
              "#482878"
             ],
             [
              0.2222222222222222,
              "#3e4989"
             ],
             [
              0.3333333333333333,
              "#31688e"
             ],
             [
              0.4444444444444444,
              "#26828e"
             ],
             [
              0.5555555555555556,
              "#1f9e89"
             ],
             [
              0.6666666666666666,
              "#35b779"
             ],
             [
              0.7777777777777778,
              "#6ece58"
             ],
             [
              0.8888888888888888,
              "#b5de2b"
             ],
             [
              1,
              "#fde725"
             ]
            ],
            "type": "histogram2dcontour"
           }
          ],
          "mesh3d": [
           {
            "colorbar": {
             "outlinewidth": 1,
             "tickcolor": "rgb(36,36,36)",
             "ticks": "outside"
            },
            "type": "mesh3d"
           }
          ],
          "parcoords": [
           {
            "line": {
             "colorbar": {
              "outlinewidth": 1,
              "tickcolor": "rgb(36,36,36)",
              "ticks": "outside"
             }
            },
            "type": "parcoords"
           }
          ],
          "pie": [
           {
            "automargin": true,
            "type": "pie"
           }
          ],
          "scatter": [
           {
            "fillpattern": {
             "fillmode": "overlay",
             "size": 10,
             "solidity": 0.2
            },
            "type": "scatter"
           }
          ],
          "scatter3d": [
           {
            "line": {
             "colorbar": {
              "outlinewidth": 1,
              "tickcolor": "rgb(36,36,36)",
              "ticks": "outside"
             }
            },
            "marker": {
             "colorbar": {
              "outlinewidth": 1,
              "tickcolor": "rgb(36,36,36)",
              "ticks": "outside"
             }
            },
            "type": "scatter3d"
           }
          ],
          "scattercarpet": [
           {
            "marker": {
             "colorbar": {
              "outlinewidth": 1,
              "tickcolor": "rgb(36,36,36)",
              "ticks": "outside"
             }
            },
            "type": "scattercarpet"
           }
          ],
          "scattergeo": [
           {
            "marker": {
             "colorbar": {
              "outlinewidth": 1,
              "tickcolor": "rgb(36,36,36)",
              "ticks": "outside"
             }
            },
            "type": "scattergeo"
           }
          ],
          "scattergl": [
           {
            "marker": {
             "colorbar": {
              "outlinewidth": 1,
              "tickcolor": "rgb(36,36,36)",
              "ticks": "outside"
             }
            },
            "type": "scattergl"
           }
          ],
          "scattermapbox": [
           {
            "marker": {
             "colorbar": {
              "outlinewidth": 1,
              "tickcolor": "rgb(36,36,36)",
              "ticks": "outside"
             }
            },
            "type": "scattermapbox"
           }
          ],
          "scatterpolar": [
           {
            "marker": {
             "colorbar": {
              "outlinewidth": 1,
              "tickcolor": "rgb(36,36,36)",
              "ticks": "outside"
             }
            },
            "type": "scatterpolar"
           }
          ],
          "scatterpolargl": [
           {
            "marker": {
             "colorbar": {
              "outlinewidth": 1,
              "tickcolor": "rgb(36,36,36)",
              "ticks": "outside"
             }
            },
            "type": "scatterpolargl"
           }
          ],
          "scatterternary": [
           {
            "marker": {
             "colorbar": {
              "outlinewidth": 1,
              "tickcolor": "rgb(36,36,36)",
              "ticks": "outside"
             }
            },
            "type": "scatterternary"
           }
          ],
          "surface": [
           {
            "colorbar": {
             "outlinewidth": 1,
             "tickcolor": "rgb(36,36,36)",
             "ticks": "outside"
            },
            "colorscale": [
             [
              0,
              "#440154"
             ],
             [
              0.1111111111111111,
              "#482878"
             ],
             [
              0.2222222222222222,
              "#3e4989"
             ],
             [
              0.3333333333333333,
              "#31688e"
             ],
             [
              0.4444444444444444,
              "#26828e"
             ],
             [
              0.5555555555555556,
              "#1f9e89"
             ],
             [
              0.6666666666666666,
              "#35b779"
             ],
             [
              0.7777777777777778,
              "#6ece58"
             ],
             [
              0.8888888888888888,
              "#b5de2b"
             ],
             [
              1,
              "#fde725"
             ]
            ],
            "type": "surface"
           }
          ],
          "table": [
           {
            "cells": {
             "fill": {
              "color": "rgb(237,237,237)"
             },
             "line": {
              "color": "white"
             }
            },
            "header": {
             "fill": {
              "color": "rgb(217,217,217)"
             },
             "line": {
              "color": "white"
             }
            },
            "type": "table"
           }
          ]
         },
         "layout": {
          "annotationdefaults": {
           "arrowhead": 0,
           "arrowwidth": 1
          },
          "autotypenumbers": "strict",
          "coloraxis": {
           "colorbar": {
            "outlinewidth": 1,
            "tickcolor": "rgb(36,36,36)",
            "ticks": "outside"
           }
          },
          "colorscale": {
           "diverging": [
            [
             0,
             "rgb(103,0,31)"
            ],
            [
             0.1,
             "rgb(178,24,43)"
            ],
            [
             0.2,
             "rgb(214,96,77)"
            ],
            [
             0.3,
             "rgb(244,165,130)"
            ],
            [
             0.4,
             "rgb(253,219,199)"
            ],
            [
             0.5,
             "rgb(247,247,247)"
            ],
            [
             0.6,
             "rgb(209,229,240)"
            ],
            [
             0.7,
             "rgb(146,197,222)"
            ],
            [
             0.8,
             "rgb(67,147,195)"
            ],
            [
             0.9,
             "rgb(33,102,172)"
            ],
            [
             1,
             "rgb(5,48,97)"
            ]
           ],
           "sequential": [
            [
             0,
             "#440154"
            ],
            [
             0.1111111111111111,
             "#482878"
            ],
            [
             0.2222222222222222,
             "#3e4989"
            ],
            [
             0.3333333333333333,
             "#31688e"
            ],
            [
             0.4444444444444444,
             "#26828e"
            ],
            [
             0.5555555555555556,
             "#1f9e89"
            ],
            [
             0.6666666666666666,
             "#35b779"
            ],
            [
             0.7777777777777778,
             "#6ece58"
            ],
            [
             0.8888888888888888,
             "#b5de2b"
            ],
            [
             1,
             "#fde725"
            ]
           ],
           "sequentialminus": [
            [
             0,
             "#440154"
            ],
            [
             0.1111111111111111,
             "#482878"
            ],
            [
             0.2222222222222222,
             "#3e4989"
            ],
            [
             0.3333333333333333,
             "#31688e"
            ],
            [
             0.4444444444444444,
             "#26828e"
            ],
            [
             0.5555555555555556,
             "#1f9e89"
            ],
            [
             0.6666666666666666,
             "#35b779"
            ],
            [
             0.7777777777777778,
             "#6ece58"
            ],
            [
             0.8888888888888888,
             "#b5de2b"
            ],
            [
             1,
             "#fde725"
            ]
           ]
          },
          "colorway": [
           "#1F77B4",
           "#FF7F0E",
           "#2CA02C",
           "#D62728",
           "#9467BD",
           "#8C564B",
           "#E377C2",
           "#7F7F7F",
           "#BCBD22",
           "#17BECF"
          ],
          "font": {
           "color": "rgb(36,36,36)"
          },
          "geo": {
           "bgcolor": "white",
           "lakecolor": "white",
           "landcolor": "white",
           "showlakes": true,
           "showland": true,
           "subunitcolor": "white"
          },
          "hoverlabel": {
           "align": "left"
          },
          "hovermode": "closest",
          "mapbox": {
           "style": "light"
          },
          "paper_bgcolor": "white",
          "plot_bgcolor": "white",
          "polar": {
           "angularaxis": {
            "gridcolor": "rgb(232,232,232)",
            "linecolor": "rgb(36,36,36)",
            "showgrid": false,
            "showline": true,
            "ticks": "outside"
           },
           "bgcolor": "white",
           "radialaxis": {
            "gridcolor": "rgb(232,232,232)",
            "linecolor": "rgb(36,36,36)",
            "showgrid": false,
            "showline": true,
            "ticks": "outside"
           }
          },
          "scene": {
           "xaxis": {
            "backgroundcolor": "white",
            "gridcolor": "rgb(232,232,232)",
            "gridwidth": 2,
            "linecolor": "rgb(36,36,36)",
            "showbackground": true,
            "showgrid": false,
            "showline": true,
            "ticks": "outside",
            "zeroline": false,
            "zerolinecolor": "rgb(36,36,36)"
           },
           "yaxis": {
            "backgroundcolor": "white",
            "gridcolor": "rgb(232,232,232)",
            "gridwidth": 2,
            "linecolor": "rgb(36,36,36)",
            "showbackground": true,
            "showgrid": false,
            "showline": true,
            "ticks": "outside",
            "zeroline": false,
            "zerolinecolor": "rgb(36,36,36)"
           },
           "zaxis": {
            "backgroundcolor": "white",
            "gridcolor": "rgb(232,232,232)",
            "gridwidth": 2,
            "linecolor": "rgb(36,36,36)",
            "showbackground": true,
            "showgrid": false,
            "showline": true,
            "ticks": "outside",
            "zeroline": false,
            "zerolinecolor": "rgb(36,36,36)"
           }
          },
          "shapedefaults": {
           "fillcolor": "black",
           "line": {
            "width": 0
           },
           "opacity": 0.3
          },
          "ternary": {
           "aaxis": {
            "gridcolor": "rgb(232,232,232)",
            "linecolor": "rgb(36,36,36)",
            "showgrid": false,
            "showline": true,
            "ticks": "outside"
           },
           "baxis": {
            "gridcolor": "rgb(232,232,232)",
            "linecolor": "rgb(36,36,36)",
            "showgrid": false,
            "showline": true,
            "ticks": "outside"
           },
           "bgcolor": "white",
           "caxis": {
            "gridcolor": "rgb(232,232,232)",
            "linecolor": "rgb(36,36,36)",
            "showgrid": false,
            "showline": true,
            "ticks": "outside"
           }
          },
          "title": {
           "x": 0.05
          },
          "xaxis": {
           "automargin": true,
           "gridcolor": "rgb(232,232,232)",
           "linecolor": "rgb(36,36,36)",
           "showgrid": false,
           "showline": true,
           "ticks": "outside",
           "title": {
            "standoff": 15
           },
           "zeroline": false,
           "zerolinecolor": "rgb(36,36,36)"
          },
          "yaxis": {
           "automargin": true,
           "gridcolor": "rgb(232,232,232)",
           "linecolor": "rgb(36,36,36)",
           "showgrid": false,
           "showline": true,
           "ticks": "outside",
           "title": {
            "standoff": 15
           },
           "zeroline": false,
           "zerolinecolor": "rgb(36,36,36)"
          }
         }
        },
        "title": {
         "font": {
          "color": "Black",
          "size": 22
         },
         "text": "<b>Documents and Topics</b>",
         "x": 0.5,
         "xanchor": "center",
         "yanchor": "top"
        },
        "width": 1200,
        "xaxis": {
         "visible": false
        },
        "yaxis": {
         "visible": false
        }
       }
      }
     },
     "metadata": {},
     "output_type": "display_data"
    }
   ],
   "source": [
    "# Visualize the documents in 2-dimensional space and show the titles on hover instead of the abstracts\n",
    "# NOTE: You can hide the hover with `hide_document_hover=True` which is especially helpful if you have a large dataset\n",
    "topic_model.visualize_documents(docs, reduced_embeddings=reduced_embeddings, custom_labels=True)"
   ]
  }
 ],
 "metadata": {
  "kernelspec": {
   "display_name": ".venv",
   "language": "python",
   "name": "python3"
  },
  "language_info": {
   "codemirror_mode": {
    "name": "ipython",
    "version": 3
   },
   "file_extension": ".py",
   "mimetype": "text/x-python",
   "name": "python",
   "nbconvert_exporter": "python",
   "pygments_lexer": "ipython3",
   "version": "3.10.13"
  }
 },
 "nbformat": 4,
 "nbformat_minor": 2
}
